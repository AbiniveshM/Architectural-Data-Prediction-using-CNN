{
  "cells": [
    {
      "cell_type": "markdown",
      "metadata": {},
      "source": [
        "## Architecture Prediction Using CNN (DenseNet121)"
      ]
    },
    {
      "attachments": {},
      "cell_type": "markdown",
      "metadata": {
        "id": "x7DET215HAne"
      },
      "source": [
        "## [1. Imports](#im) ##\n",
        "## [2. HyperParameters](#hp) ##\n",
        "## [3. Data Loading and Preprocessing](#data) ##\n",
        "## [4. DenseNet121 Feature Extractor](#model)  ##\n",
        "## [5. Training](#train) ##\n",
        "## [6. Mutliclass AUC Curve](#auc) ##"
      ]
    },
    {
      "attachments": {},
      "cell_type": "markdown",
      "metadata": {
        "id": "lWOriujgHAne"
      },
      "source": [
        "<a id=\"im\"></a>\n",
        "# <center>IMPORTING LIBRARIES</center>"
      ]
    },
    {
      "cell_type": "code",
      "execution_count": 1,
      "metadata": {
        "execution": {
          "iopub.execute_input": "2022-11-01T10:01:10.946643Z",
          "iopub.status.busy": "2022-11-01T10:01:10.946051Z",
          "iopub.status.idle": "2022-11-01T10:01:20.661215Z",
          "shell.execute_reply": "2022-11-01T10:01:20.660345Z",
          "shell.execute_reply.started": "2022-11-01T10:01:10.946556Z"
        },
        "id": "pWTGwz9bHAne"
      },
      "outputs": [],
      "source": [
        "import pandas as pd\n",
        "import numpy as np\n",
        "import matplotlib.pyplot as plt\n",
        "import seaborn as sns\n",
        "import plotly.express as px\n",
        "import os\n",
        "\n",
        "import tensorflow as tf\n",
        "from tensorflow.keras.preprocessing.image import ImageDataGenerator\n",
        "from sklearn.preprocessing import LabelBinarizer\n",
        "from sklearn.metrics import roc_curve, auc, roc_auc_score\n",
        "\n",
        "\n",
        "# from IPython.display import clear_output\n",
        "import warnings\n",
        "warnings.filterwarnings('ignore')"
      ]
    },
    {
      "attachments": {},
      "cell_type": "markdown",
      "metadata": {
        "id": "0RQz5ZeeI84q"
      },
      "source": []
    },
    {
      "attachments": {},
      "cell_type": "markdown",
      "metadata": {
        "id": "Kbq72RBeHAnf"
      },
      "source": [
        "<a id=\"hp\"></a>\n",
        "# <center>HYPERPARAMETRERS AND DIRECTORIES</center>"
      ]
    },
    {
      "cell_type": "code",
      "execution_count": 19,
      "metadata": {
        "id": "Kh5nkndiHAng"
      },
      "outputs": [],
      "source": [
        "train_dir = \"arch/train\"\n",
        "test_dir = \"/arch/test\"\n",
        "\n",
        "SEED = 12\n",
        "IMG_HEIGHT = 64\n",
        "IMG_WIDTH = 64\n",
        "BATCH_SIZE = 64      #Was 46\n",
        "EPOCHS = 100\n",
        "LR =  0.1\n",
        "NUM_CLASSES = 14\n",
        "CLASS_LABELS = ['gargoyle','dome(outer)','flying_buttress','altar','dome(inner)','bell_tower','vault','stained_glass','column','apse']"
      ]
    },
    {
      "attachments": {},
      "cell_type": "markdown",
      "metadata": {
        "id": "E5OfX63QHAng"
      },
      "source": [
        "<a id=\"data\"></a>\n",
        "# <center> DATA LOADING AND PRE-PROCESSING</center>"
      ]
    },
    {
      "attachments": {},
      "cell_type": "markdown",
      "metadata": {
        "id": "CXmyIWQ-HAng"
      },
      "source": [
        "Creating two different generator for train and test data"
      ]
    },
    {
      "cell_type": "code",
      "execution_count": 4,
      "metadata": {
        "execution": {
          "iopub.execute_input": "2022-11-01T10:01:20.674229Z",
          "iopub.status.busy": "2022-11-01T10:01:20.673672Z",
          "iopub.status.idle": "2022-11-01T10:01:20.696687Z",
          "shell.execute_reply": "2022-11-01T10:01:20.695769Z",
          "shell.execute_reply.started": "2022-11-01T10:01:20.674179Z"
        },
        "id": "tHBqCBNAHAng"
      },
      "outputs": [],
      "source": [
        "preprocess_fun = tf.keras.applications.densenet.preprocess_input\n",
        "\n",
        "train_datagen = ImageDataGenerator(\n",
        "                                   horizontal_flip=True,\n",
        "                                   width_shift_range=0.1,\n",
        "                                   height_shift_range=0.05,\n",
        "                                   rescale = 1./255,\n",
        "                                   validation_split=0.2, # set validation split, Added\n",
        "                                   preprocessing_function=preprocess_fun\n",
        "                                  )\n",
        "test_datagen = ImageDataGenerator(rescale = 1./255,\n",
        "                                  preprocessing_function=preprocess_fun\n",
        "                                 )"
      ]
    },
    {
      "cell_type": "code",
      "execution_count": 5,
      "metadata": {
        "_kg_hide-input": true,
        "colab": {
          "base_uri": "https://localhost:8080/"
        },
        "execution": {
          "iopub.execute_input": "2022-11-01T10:01:20.698602Z",
          "iopub.status.busy": "2022-11-01T10:01:20.698329Z",
          "iopub.status.idle": "2022-11-01T10:33:08.376619Z",
          "shell.execute_reply": "2022-11-01T10:33:08.375810Z",
          "shell.execute_reply.started": "2022-11-01T10:01:20.698566Z"
        },
        "id": "O6DmTU2RHAnh",
        "outputId": "99f59346-f9d6-42e4-a5c5-1398fa397f6e"
      },
      "outputs": [
        {
          "name": "stdout",
          "output_type": "stream",
          "text": [
            "Found 7954 images belonging to 10 classes.\n",
            "Found 1984 images belonging to 10 classes.\n",
            "Found 1376 images belonging to 10 classes.\n"
          ]
        }
      ],
      "source": [
        "train_generator = train_datagen.flow_from_directory(directory = train_dir,\n",
        "                                                    target_size = (IMG_HEIGHT ,IMG_WIDTH),\n",
        "                                                    batch_size = BATCH_SIZE,\n",
        "                                                    shuffle  = True ,\n",
        "                                                    color_mode = \"rgb\",\n",
        "                                                    class_mode = \"categorical\",\n",
        "                                                     subset='training',    #Added\n",
        "                                                    seed = SEED\n",
        "                                                   )\n",
        "\n",
        "validation_generator = train_datagen.flow_from_directory(train_dir, # same directory as training data\n",
        "                                                    target_size = (IMG_HEIGHT ,IMG_WIDTH),\n",
        "                                                    batch_size = BATCH_SIZE,\n",
        "                                                    shuffle  = True ,\n",
        "                                                    color_mode = \"rgb\",\n",
        "                                                    class_mode = \"categorical\",\n",
        "                                                    subset='validation', # set as validation data,  #Added\n",
        "                                                    seed = SEED\n",
        "                                                   )\n",
        "\n",
        "\n",
        "\n",
        "\n",
        "\n",
        "test_generator = test_datagen.flow_from_directory(directory = test_dir,\n",
        "                                                   target_size = (IMG_HEIGHT ,IMG_WIDTH),\n",
        "                                                    batch_size = BATCH_SIZE,\n",
        "                                                    shuffle  = False ,\n",
        "                                                    color_mode = \"rgb\",\n",
        "                                                    class_mode = \"categorical\",\n",
        "                                                    seed = SEED\n",
        "                                                  )"
      ]
    },
    {
      "attachments": {},
      "cell_type": "markdown",
      "metadata": {
        "id": "Dzhcs3xbHAni"
      },
      "source": [
        "## Data distribution (count) among all the classes"
      ]
    },
    {
      "attachments": {},
      "cell_type": "markdown",
      "metadata": {
        "id": "hkXo_qURHAni"
      },
      "source": [
        "### Train data Distribution"
      ]
    },
    {
      "cell_type": "code",
      "execution_count": 6,
      "metadata": {
        "_kg_hide-input": true,
        "colab": {
          "base_uri": "https://localhost:8080/",
          "height": 542
        },
        "execution": {
          "iopub.execute_input": "2022-11-01T10:33:08.379219Z",
          "iopub.status.busy": "2022-11-01T10:33:08.378781Z",
          "iopub.status.idle": "2022-11-01T10:33:11.528349Z",
          "shell.execute_reply": "2022-11-01T10:33:11.527663Z",
          "shell.execute_reply.started": "2022-11-01T10:33:08.379180Z"
        },
        "id": "phb82PtuHAni",
        "outputId": "20546ff6-ed6e-4d30-fa4b-ca3376aa656f"
      },
      "outputs": [
        {
          "data": {
            "application/vnd.plotly.v1+json": {
              "config": {
                "plotlyServerURL": "https://plot.ly"
              },
              "data": [
                {
                  "alignmentgroup": "True",
                  "hovertemplate": "x=%{x}<br>y=%{y}<br>color=%{marker.color}<extra></extra>",
                  "legendgroup": "",
                  "marker": {
                    "color": [
                      0,
                      1,
                      2,
                      3,
                      4,
                      5,
                      6,
                      7,
                      8,
                      9
                    ],
                    "coloraxis": "coloraxis",
                    "pattern": {
                      "shape": ""
                    }
                  },
                  "name": "",
                  "offsetgroup": "",
                  "orientation": "v",
                  "showlegend": false,
                  "textposition": "auto",
                  "type": "bar",
                  "x": [
                    "gargoyle",
                    "dome(outer)",
                    "flying_buttress",
                    "altar",
                    "dome(inner)",
                    "bell_tower",
                    "vault",
                    "stained_glass",
                    "column",
                    "apse"
                  ],
                  "xaxis": "x",
                  "y": [
                    652,
                    404,
                    846,
                    1464,
                    472,
                    931,
                    324,
                    1250,
                    777,
                    834
                  ],
                  "yaxis": "y"
                }
              ],
              "layout": {
                "barmode": "relative",
                "coloraxis": {
                  "colorbar": {
                    "title": {
                      "text": "color"
                    }
                  },
                  "colorscale": [
                    [
                      0,
                      "rgb(211, 242, 163)"
                    ],
                    [
                      0.16666666666666666,
                      "rgb(151, 225, 150)"
                    ],
                    [
                      0.3333333333333333,
                      "rgb(108, 192, 139)"
                    ],
                    [
                      0.5,
                      "rgb(76, 155, 130)"
                    ],
                    [
                      0.6666666666666666,
                      "rgb(33, 122, 121)"
                    ],
                    [
                      0.8333333333333334,
                      "rgb(16, 89, 101)"
                    ],
                    [
                      1,
                      "rgb(7, 64, 80)"
                    ]
                  ]
                },
                "legend": {
                  "tracegroupgap": 0
                },
                "margin": {
                  "t": 60
                },
                "showlegend": true,
                "template": {
                  "data": {
                    "bar": [
                      {
                        "error_x": {
                          "color": "#2a3f5f"
                        },
                        "error_y": {
                          "color": "#2a3f5f"
                        },
                        "marker": {
                          "line": {
                            "color": "#E5ECF6",
                            "width": 0.5
                          },
                          "pattern": {
                            "fillmode": "overlay",
                            "size": 10,
                            "solidity": 0.2
                          }
                        },
                        "type": "bar"
                      }
                    ],
                    "barpolar": [
                      {
                        "marker": {
                          "line": {
                            "color": "#E5ECF6",
                            "width": 0.5
                          },
                          "pattern": {
                            "fillmode": "overlay",
                            "size": 10,
                            "solidity": 0.2
                          }
                        },
                        "type": "barpolar"
                      }
                    ],
                    "carpet": [
                      {
                        "aaxis": {
                          "endlinecolor": "#2a3f5f",
                          "gridcolor": "white",
                          "linecolor": "white",
                          "minorgridcolor": "white",
                          "startlinecolor": "#2a3f5f"
                        },
                        "baxis": {
                          "endlinecolor": "#2a3f5f",
                          "gridcolor": "white",
                          "linecolor": "white",
                          "minorgridcolor": "white",
                          "startlinecolor": "#2a3f5f"
                        },
                        "type": "carpet"
                      }
                    ],
                    "choropleth": [
                      {
                        "colorbar": {
                          "outlinewidth": 0,
                          "ticks": ""
                        },
                        "type": "choropleth"
                      }
                    ],
                    "contour": [
                      {
                        "colorbar": {
                          "outlinewidth": 0,
                          "ticks": ""
                        },
                        "colorscale": [
                          [
                            0,
                            "#0d0887"
                          ],
                          [
                            0.1111111111111111,
                            "#46039f"
                          ],
                          [
                            0.2222222222222222,
                            "#7201a8"
                          ],
                          [
                            0.3333333333333333,
                            "#9c179e"
                          ],
                          [
                            0.4444444444444444,
                            "#bd3786"
                          ],
                          [
                            0.5555555555555556,
                            "#d8576b"
                          ],
                          [
                            0.6666666666666666,
                            "#ed7953"
                          ],
                          [
                            0.7777777777777778,
                            "#fb9f3a"
                          ],
                          [
                            0.8888888888888888,
                            "#fdca26"
                          ],
                          [
                            1,
                            "#f0f921"
                          ]
                        ],
                        "type": "contour"
                      }
                    ],
                    "contourcarpet": [
                      {
                        "colorbar": {
                          "outlinewidth": 0,
                          "ticks": ""
                        },
                        "type": "contourcarpet"
                      }
                    ],
                    "heatmap": [
                      {
                        "colorbar": {
                          "outlinewidth": 0,
                          "ticks": ""
                        },
                        "colorscale": [
                          [
                            0,
                            "#0d0887"
                          ],
                          [
                            0.1111111111111111,
                            "#46039f"
                          ],
                          [
                            0.2222222222222222,
                            "#7201a8"
                          ],
                          [
                            0.3333333333333333,
                            "#9c179e"
                          ],
                          [
                            0.4444444444444444,
                            "#bd3786"
                          ],
                          [
                            0.5555555555555556,
                            "#d8576b"
                          ],
                          [
                            0.6666666666666666,
                            "#ed7953"
                          ],
                          [
                            0.7777777777777778,
                            "#fb9f3a"
                          ],
                          [
                            0.8888888888888888,
                            "#fdca26"
                          ],
                          [
                            1,
                            "#f0f921"
                          ]
                        ],
                        "type": "heatmap"
                      }
                    ],
                    "heatmapgl": [
                      {
                        "colorbar": {
                          "outlinewidth": 0,
                          "ticks": ""
                        },
                        "colorscale": [
                          [
                            0,
                            "#0d0887"
                          ],
                          [
                            0.1111111111111111,
                            "#46039f"
                          ],
                          [
                            0.2222222222222222,
                            "#7201a8"
                          ],
                          [
                            0.3333333333333333,
                            "#9c179e"
                          ],
                          [
                            0.4444444444444444,
                            "#bd3786"
                          ],
                          [
                            0.5555555555555556,
                            "#d8576b"
                          ],
                          [
                            0.6666666666666666,
                            "#ed7953"
                          ],
                          [
                            0.7777777777777778,
                            "#fb9f3a"
                          ],
                          [
                            0.8888888888888888,
                            "#fdca26"
                          ],
                          [
                            1,
                            "#f0f921"
                          ]
                        ],
                        "type": "heatmapgl"
                      }
                    ],
                    "histogram": [
                      {
                        "marker": {
                          "pattern": {
                            "fillmode": "overlay",
                            "size": 10,
                            "solidity": 0.2
                          }
                        },
                        "type": "histogram"
                      }
                    ],
                    "histogram2d": [
                      {
                        "colorbar": {
                          "outlinewidth": 0,
                          "ticks": ""
                        },
                        "colorscale": [
                          [
                            0,
                            "#0d0887"
                          ],
                          [
                            0.1111111111111111,
                            "#46039f"
                          ],
                          [
                            0.2222222222222222,
                            "#7201a8"
                          ],
                          [
                            0.3333333333333333,
                            "#9c179e"
                          ],
                          [
                            0.4444444444444444,
                            "#bd3786"
                          ],
                          [
                            0.5555555555555556,
                            "#d8576b"
                          ],
                          [
                            0.6666666666666666,
                            "#ed7953"
                          ],
                          [
                            0.7777777777777778,
                            "#fb9f3a"
                          ],
                          [
                            0.8888888888888888,
                            "#fdca26"
                          ],
                          [
                            1,
                            "#f0f921"
                          ]
                        ],
                        "type": "histogram2d"
                      }
                    ],
                    "histogram2dcontour": [
                      {
                        "colorbar": {
                          "outlinewidth": 0,
                          "ticks": ""
                        },
                        "colorscale": [
                          [
                            0,
                            "#0d0887"
                          ],
                          [
                            0.1111111111111111,
                            "#46039f"
                          ],
                          [
                            0.2222222222222222,
                            "#7201a8"
                          ],
                          [
                            0.3333333333333333,
                            "#9c179e"
                          ],
                          [
                            0.4444444444444444,
                            "#bd3786"
                          ],
                          [
                            0.5555555555555556,
                            "#d8576b"
                          ],
                          [
                            0.6666666666666666,
                            "#ed7953"
                          ],
                          [
                            0.7777777777777778,
                            "#fb9f3a"
                          ],
                          [
                            0.8888888888888888,
                            "#fdca26"
                          ],
                          [
                            1,
                            "#f0f921"
                          ]
                        ],
                        "type": "histogram2dcontour"
                      }
                    ],
                    "mesh3d": [
                      {
                        "colorbar": {
                          "outlinewidth": 0,
                          "ticks": ""
                        },
                        "type": "mesh3d"
                      }
                    ],
                    "parcoords": [
                      {
                        "line": {
                          "colorbar": {
                            "outlinewidth": 0,
                            "ticks": ""
                          }
                        },
                        "type": "parcoords"
                      }
                    ],
                    "pie": [
                      {
                        "automargin": true,
                        "type": "pie"
                      }
                    ],
                    "scatter": [
                      {
                        "fillpattern": {
                          "fillmode": "overlay",
                          "size": 10,
                          "solidity": 0.2
                        },
                        "type": "scatter"
                      }
                    ],
                    "scatter3d": [
                      {
                        "line": {
                          "colorbar": {
                            "outlinewidth": 0,
                            "ticks": ""
                          }
                        },
                        "marker": {
                          "colorbar": {
                            "outlinewidth": 0,
                            "ticks": ""
                          }
                        },
                        "type": "scatter3d"
                      }
                    ],
                    "scattercarpet": [
                      {
                        "marker": {
                          "colorbar": {
                            "outlinewidth": 0,
                            "ticks": ""
                          }
                        },
                        "type": "scattercarpet"
                      }
                    ],
                    "scattergeo": [
                      {
                        "marker": {
                          "colorbar": {
                            "outlinewidth": 0,
                            "ticks": ""
                          }
                        },
                        "type": "scattergeo"
                      }
                    ],
                    "scattergl": [
                      {
                        "marker": {
                          "colorbar": {
                            "outlinewidth": 0,
                            "ticks": ""
                          }
                        },
                        "type": "scattergl"
                      }
                    ],
                    "scattermapbox": [
                      {
                        "marker": {
                          "colorbar": {
                            "outlinewidth": 0,
                            "ticks": ""
                          }
                        },
                        "type": "scattermapbox"
                      }
                    ],
                    "scatterpolar": [
                      {
                        "marker": {
                          "colorbar": {
                            "outlinewidth": 0,
                            "ticks": ""
                          }
                        },
                        "type": "scatterpolar"
                      }
                    ],
                    "scatterpolargl": [
                      {
                        "marker": {
                          "colorbar": {
                            "outlinewidth": 0,
                            "ticks": ""
                          }
                        },
                        "type": "scatterpolargl"
                      }
                    ],
                    "scatterternary": [
                      {
                        "marker": {
                          "colorbar": {
                            "outlinewidth": 0,
                            "ticks": ""
                          }
                        },
                        "type": "scatterternary"
                      }
                    ],
                    "surface": [
                      {
                        "colorbar": {
                          "outlinewidth": 0,
                          "ticks": ""
                        },
                        "colorscale": [
                          [
                            0,
                            "#0d0887"
                          ],
                          [
                            0.1111111111111111,
                            "#46039f"
                          ],
                          [
                            0.2222222222222222,
                            "#7201a8"
                          ],
                          [
                            0.3333333333333333,
                            "#9c179e"
                          ],
                          [
                            0.4444444444444444,
                            "#bd3786"
                          ],
                          [
                            0.5555555555555556,
                            "#d8576b"
                          ],
                          [
                            0.6666666666666666,
                            "#ed7953"
                          ],
                          [
                            0.7777777777777778,
                            "#fb9f3a"
                          ],
                          [
                            0.8888888888888888,
                            "#fdca26"
                          ],
                          [
                            1,
                            "#f0f921"
                          ]
                        ],
                        "type": "surface"
                      }
                    ],
                    "table": [
                      {
                        "cells": {
                          "fill": {
                            "color": "#EBF0F8"
                          },
                          "line": {
                            "color": "white"
                          }
                        },
                        "header": {
                          "fill": {
                            "color": "#C8D4E3"
                          },
                          "line": {
                            "color": "white"
                          }
                        },
                        "type": "table"
                      }
                    ]
                  },
                  "layout": {
                    "annotationdefaults": {
                      "arrowcolor": "#2a3f5f",
                      "arrowhead": 0,
                      "arrowwidth": 1
                    },
                    "autotypenumbers": "strict",
                    "coloraxis": {
                      "colorbar": {
                        "outlinewidth": 0,
                        "ticks": ""
                      }
                    },
                    "colorscale": {
                      "diverging": [
                        [
                          0,
                          "#8e0152"
                        ],
                        [
                          0.1,
                          "#c51b7d"
                        ],
                        [
                          0.2,
                          "#de77ae"
                        ],
                        [
                          0.3,
                          "#f1b6da"
                        ],
                        [
                          0.4,
                          "#fde0ef"
                        ],
                        [
                          0.5,
                          "#f7f7f7"
                        ],
                        [
                          0.6,
                          "#e6f5d0"
                        ],
                        [
                          0.7,
                          "#b8e186"
                        ],
                        [
                          0.8,
                          "#7fbc41"
                        ],
                        [
                          0.9,
                          "#4d9221"
                        ],
                        [
                          1,
                          "#276419"
                        ]
                      ],
                      "sequential": [
                        [
                          0,
                          "#0d0887"
                        ],
                        [
                          0.1111111111111111,
                          "#46039f"
                        ],
                        [
                          0.2222222222222222,
                          "#7201a8"
                        ],
                        [
                          0.3333333333333333,
                          "#9c179e"
                        ],
                        [
                          0.4444444444444444,
                          "#bd3786"
                        ],
                        [
                          0.5555555555555556,
                          "#d8576b"
                        ],
                        [
                          0.6666666666666666,
                          "#ed7953"
                        ],
                        [
                          0.7777777777777778,
                          "#fb9f3a"
                        ],
                        [
                          0.8888888888888888,
                          "#fdca26"
                        ],
                        [
                          1,
                          "#f0f921"
                        ]
                      ],
                      "sequentialminus": [
                        [
                          0,
                          "#0d0887"
                        ],
                        [
                          0.1111111111111111,
                          "#46039f"
                        ],
                        [
                          0.2222222222222222,
                          "#7201a8"
                        ],
                        [
                          0.3333333333333333,
                          "#9c179e"
                        ],
                        [
                          0.4444444444444444,
                          "#bd3786"
                        ],
                        [
                          0.5555555555555556,
                          "#d8576b"
                        ],
                        [
                          0.6666666666666666,
                          "#ed7953"
                        ],
                        [
                          0.7777777777777778,
                          "#fb9f3a"
                        ],
                        [
                          0.8888888888888888,
                          "#fdca26"
                        ],
                        [
                          1,
                          "#f0f921"
                        ]
                      ]
                    },
                    "colorway": [
                      "#636efa",
                      "#EF553B",
                      "#00cc96",
                      "#ab63fa",
                      "#FFA15A",
                      "#19d3f3",
                      "#FF6692",
                      "#B6E880",
                      "#FF97FF",
                      "#FECB52"
                    ],
                    "font": {
                      "color": "#2a3f5f"
                    },
                    "geo": {
                      "bgcolor": "white",
                      "lakecolor": "white",
                      "landcolor": "#E5ECF6",
                      "showlakes": true,
                      "showland": true,
                      "subunitcolor": "white"
                    },
                    "hoverlabel": {
                      "align": "left"
                    },
                    "hovermode": "closest",
                    "mapbox": {
                      "style": "light"
                    },
                    "paper_bgcolor": "white",
                    "plot_bgcolor": "#E5ECF6",
                    "polar": {
                      "angularaxis": {
                        "gridcolor": "white",
                        "linecolor": "white",
                        "ticks": ""
                      },
                      "bgcolor": "#E5ECF6",
                      "radialaxis": {
                        "gridcolor": "white",
                        "linecolor": "white",
                        "ticks": ""
                      }
                    },
                    "scene": {
                      "xaxis": {
                        "backgroundcolor": "#E5ECF6",
                        "gridcolor": "white",
                        "gridwidth": 2,
                        "linecolor": "white",
                        "showbackground": true,
                        "ticks": "",
                        "zerolinecolor": "white"
                      },
                      "yaxis": {
                        "backgroundcolor": "#E5ECF6",
                        "gridcolor": "white",
                        "gridwidth": 2,
                        "linecolor": "white",
                        "showbackground": true,
                        "ticks": "",
                        "zerolinecolor": "white"
                      },
                      "zaxis": {
                        "backgroundcolor": "#E5ECF6",
                        "gridcolor": "white",
                        "gridwidth": 2,
                        "linecolor": "white",
                        "showbackground": true,
                        "ticks": "",
                        "zerolinecolor": "white"
                      }
                    },
                    "shapedefaults": {
                      "line": {
                        "color": "#2a3f5f"
                      }
                    },
                    "ternary": {
                      "aaxis": {
                        "gridcolor": "white",
                        "linecolor": "white",
                        "ticks": ""
                      },
                      "baxis": {
                        "gridcolor": "white",
                        "linecolor": "white",
                        "ticks": ""
                      },
                      "bgcolor": "#E5ECF6",
                      "caxis": {
                        "gridcolor": "white",
                        "linecolor": "white",
                        "ticks": ""
                      }
                    },
                    "title": {
                      "x": 0.05
                    },
                    "xaxis": {
                      "automargin": true,
                      "gridcolor": "white",
                      "linecolor": "white",
                      "ticks": "",
                      "title": {
                        "standoff": 15
                      },
                      "zerolinecolor": "white",
                      "zerolinewidth": 2
                    },
                    "yaxis": {
                      "automargin": true,
                      "gridcolor": "white",
                      "linecolor": "white",
                      "ticks": "",
                      "title": {
                        "standoff": 15
                      },
                      "zerolinecolor": "white",
                      "zerolinewidth": 2
                    }
                  }
                },
                "title": {
                  "text": "Train Data Distribution ",
                  "x": 0.5,
                  "xanchor": "center",
                  "y": 0.95,
                  "yanchor": "top"
                },
                "xaxis": {
                  "anchor": "y",
                  "domain": [
                    0,
                    1
                  ],
                  "title": {
                    "text": "Classes"
                  }
                },
                "yaxis": {
                  "anchor": "x",
                  "domain": [
                    0,
                    1
                  ],
                  "title": {
                    "text": "Number of Images"
                  }
                }
              }
            }
          },
          "metadata": {},
          "output_type": "display_data"
        }
      ],
      "source": [
        "fig = px.bar(x = CLASS_LABELS,\n",
        "             y = [list(train_generator.classes).count(i) for i in np.unique(train_generator.classes)] ,\n",
        "             color = np.unique(train_generator.classes) ,\n",
        "             color_continuous_scale=\"Emrld\")\n",
        "fig.update_xaxes(title=\"Classes\")\n",
        "fig.update_yaxes(title = \"Number of Images\")\n",
        "fig.update_layout(showlegend = True,\n",
        "    title = {\n",
        "        'text': 'Train Data Distribution ',\n",
        "        'y':0.95,\n",
        "        'x':0.5,\n",
        "        'xanchor': 'center',\n",
        "        'yanchor': 'top'})\n",
        "fig.show()"
      ]
    },
    {
      "attachments": {},
      "cell_type": "markdown",
      "metadata": {
        "id": "NmyHAInIHAni"
      },
      "source": [
        "### Validation Data Distribution"
      ]
    },
    {
      "cell_type": "code",
      "execution_count": 7,
      "metadata": {
        "colab": {
          "base_uri": "https://localhost:8080/",
          "height": 542
        },
        "id": "v41-bZiZHAni",
        "outputId": "653d5a12-1785-416b-df46-8f0c7de4a22d"
      },
      "outputs": [
        {
          "data": {
            "application/vnd.plotly.v1+json": {
              "config": {
                "plotlyServerURL": "https://plot.ly"
              },
              "data": [
                {
                  "alignmentgroup": "True",
                  "hovertemplate": "x=%{x}<br>y=%{y}<br>color=%{marker.color}<extra></extra>",
                  "legendgroup": "",
                  "marker": {
                    "color": [
                      0,
                      1,
                      2,
                      3,
                      4,
                      5,
                      6,
                      7,
                      8,
                      9
                    ],
                    "coloraxis": "coloraxis",
                    "pattern": {
                      "shape": ""
                    }
                  },
                  "name": "",
                  "offsetgroup": "",
                  "orientation": "v",
                  "showlegend": false,
                  "textposition": "auto",
                  "type": "bar",
                  "x": [
                    "gargoyle",
                    "dome(outer)",
                    "flying_buttress",
                    "altar",
                    "dome(inner)",
                    "bell_tower",
                    "vault",
                    "stained_glass",
                    "column",
                    "apse"
                  ],
                  "xaxis": "x",
                  "y": [
                    162,
                    101,
                    211,
                    366,
                    117,
                    232,
                    81,
                    312,
                    194,
                    208
                  ],
                  "yaxis": "y"
                }
              ],
              "layout": {
                "barmode": "relative",
                "coloraxis": {
                  "colorbar": {
                    "title": {
                      "text": "color"
                    }
                  },
                  "colorscale": [
                    [
                      0,
                      "rgb(211, 242, 163)"
                    ],
                    [
                      0.16666666666666666,
                      "rgb(151, 225, 150)"
                    ],
                    [
                      0.3333333333333333,
                      "rgb(108, 192, 139)"
                    ],
                    [
                      0.5,
                      "rgb(76, 155, 130)"
                    ],
                    [
                      0.6666666666666666,
                      "rgb(33, 122, 121)"
                    ],
                    [
                      0.8333333333333334,
                      "rgb(16, 89, 101)"
                    ],
                    [
                      1,
                      "rgb(7, 64, 80)"
                    ]
                  ]
                },
                "legend": {
                  "tracegroupgap": 0
                },
                "margin": {
                  "t": 60
                },
                "showlegend": true,
                "template": {
                  "data": {
                    "bar": [
                      {
                        "error_x": {
                          "color": "#2a3f5f"
                        },
                        "error_y": {
                          "color": "#2a3f5f"
                        },
                        "marker": {
                          "line": {
                            "color": "#E5ECF6",
                            "width": 0.5
                          },
                          "pattern": {
                            "fillmode": "overlay",
                            "size": 10,
                            "solidity": 0.2
                          }
                        },
                        "type": "bar"
                      }
                    ],
                    "barpolar": [
                      {
                        "marker": {
                          "line": {
                            "color": "#E5ECF6",
                            "width": 0.5
                          },
                          "pattern": {
                            "fillmode": "overlay",
                            "size": 10,
                            "solidity": 0.2
                          }
                        },
                        "type": "barpolar"
                      }
                    ],
                    "carpet": [
                      {
                        "aaxis": {
                          "endlinecolor": "#2a3f5f",
                          "gridcolor": "white",
                          "linecolor": "white",
                          "minorgridcolor": "white",
                          "startlinecolor": "#2a3f5f"
                        },
                        "baxis": {
                          "endlinecolor": "#2a3f5f",
                          "gridcolor": "white",
                          "linecolor": "white",
                          "minorgridcolor": "white",
                          "startlinecolor": "#2a3f5f"
                        },
                        "type": "carpet"
                      }
                    ],
                    "choropleth": [
                      {
                        "colorbar": {
                          "outlinewidth": 0,
                          "ticks": ""
                        },
                        "type": "choropleth"
                      }
                    ],
                    "contour": [
                      {
                        "colorbar": {
                          "outlinewidth": 0,
                          "ticks": ""
                        },
                        "colorscale": [
                          [
                            0,
                            "#0d0887"
                          ],
                          [
                            0.1111111111111111,
                            "#46039f"
                          ],
                          [
                            0.2222222222222222,
                            "#7201a8"
                          ],
                          [
                            0.3333333333333333,
                            "#9c179e"
                          ],
                          [
                            0.4444444444444444,
                            "#bd3786"
                          ],
                          [
                            0.5555555555555556,
                            "#d8576b"
                          ],
                          [
                            0.6666666666666666,
                            "#ed7953"
                          ],
                          [
                            0.7777777777777778,
                            "#fb9f3a"
                          ],
                          [
                            0.8888888888888888,
                            "#fdca26"
                          ],
                          [
                            1,
                            "#f0f921"
                          ]
                        ],
                        "type": "contour"
                      }
                    ],
                    "contourcarpet": [
                      {
                        "colorbar": {
                          "outlinewidth": 0,
                          "ticks": ""
                        },
                        "type": "contourcarpet"
                      }
                    ],
                    "heatmap": [
                      {
                        "colorbar": {
                          "outlinewidth": 0,
                          "ticks": ""
                        },
                        "colorscale": [
                          [
                            0,
                            "#0d0887"
                          ],
                          [
                            0.1111111111111111,
                            "#46039f"
                          ],
                          [
                            0.2222222222222222,
                            "#7201a8"
                          ],
                          [
                            0.3333333333333333,
                            "#9c179e"
                          ],
                          [
                            0.4444444444444444,
                            "#bd3786"
                          ],
                          [
                            0.5555555555555556,
                            "#d8576b"
                          ],
                          [
                            0.6666666666666666,
                            "#ed7953"
                          ],
                          [
                            0.7777777777777778,
                            "#fb9f3a"
                          ],
                          [
                            0.8888888888888888,
                            "#fdca26"
                          ],
                          [
                            1,
                            "#f0f921"
                          ]
                        ],
                        "type": "heatmap"
                      }
                    ],
                    "heatmapgl": [
                      {
                        "colorbar": {
                          "outlinewidth": 0,
                          "ticks": ""
                        },
                        "colorscale": [
                          [
                            0,
                            "#0d0887"
                          ],
                          [
                            0.1111111111111111,
                            "#46039f"
                          ],
                          [
                            0.2222222222222222,
                            "#7201a8"
                          ],
                          [
                            0.3333333333333333,
                            "#9c179e"
                          ],
                          [
                            0.4444444444444444,
                            "#bd3786"
                          ],
                          [
                            0.5555555555555556,
                            "#d8576b"
                          ],
                          [
                            0.6666666666666666,
                            "#ed7953"
                          ],
                          [
                            0.7777777777777778,
                            "#fb9f3a"
                          ],
                          [
                            0.8888888888888888,
                            "#fdca26"
                          ],
                          [
                            1,
                            "#f0f921"
                          ]
                        ],
                        "type": "heatmapgl"
                      }
                    ],
                    "histogram": [
                      {
                        "marker": {
                          "pattern": {
                            "fillmode": "overlay",
                            "size": 10,
                            "solidity": 0.2
                          }
                        },
                        "type": "histogram"
                      }
                    ],
                    "histogram2d": [
                      {
                        "colorbar": {
                          "outlinewidth": 0,
                          "ticks": ""
                        },
                        "colorscale": [
                          [
                            0,
                            "#0d0887"
                          ],
                          [
                            0.1111111111111111,
                            "#46039f"
                          ],
                          [
                            0.2222222222222222,
                            "#7201a8"
                          ],
                          [
                            0.3333333333333333,
                            "#9c179e"
                          ],
                          [
                            0.4444444444444444,
                            "#bd3786"
                          ],
                          [
                            0.5555555555555556,
                            "#d8576b"
                          ],
                          [
                            0.6666666666666666,
                            "#ed7953"
                          ],
                          [
                            0.7777777777777778,
                            "#fb9f3a"
                          ],
                          [
                            0.8888888888888888,
                            "#fdca26"
                          ],
                          [
                            1,
                            "#f0f921"
                          ]
                        ],
                        "type": "histogram2d"
                      }
                    ],
                    "histogram2dcontour": [
                      {
                        "colorbar": {
                          "outlinewidth": 0,
                          "ticks": ""
                        },
                        "colorscale": [
                          [
                            0,
                            "#0d0887"
                          ],
                          [
                            0.1111111111111111,
                            "#46039f"
                          ],
                          [
                            0.2222222222222222,
                            "#7201a8"
                          ],
                          [
                            0.3333333333333333,
                            "#9c179e"
                          ],
                          [
                            0.4444444444444444,
                            "#bd3786"
                          ],
                          [
                            0.5555555555555556,
                            "#d8576b"
                          ],
                          [
                            0.6666666666666666,
                            "#ed7953"
                          ],
                          [
                            0.7777777777777778,
                            "#fb9f3a"
                          ],
                          [
                            0.8888888888888888,
                            "#fdca26"
                          ],
                          [
                            1,
                            "#f0f921"
                          ]
                        ],
                        "type": "histogram2dcontour"
                      }
                    ],
                    "mesh3d": [
                      {
                        "colorbar": {
                          "outlinewidth": 0,
                          "ticks": ""
                        },
                        "type": "mesh3d"
                      }
                    ],
                    "parcoords": [
                      {
                        "line": {
                          "colorbar": {
                            "outlinewidth": 0,
                            "ticks": ""
                          }
                        },
                        "type": "parcoords"
                      }
                    ],
                    "pie": [
                      {
                        "automargin": true,
                        "type": "pie"
                      }
                    ],
                    "scatter": [
                      {
                        "fillpattern": {
                          "fillmode": "overlay",
                          "size": 10,
                          "solidity": 0.2
                        },
                        "type": "scatter"
                      }
                    ],
                    "scatter3d": [
                      {
                        "line": {
                          "colorbar": {
                            "outlinewidth": 0,
                            "ticks": ""
                          }
                        },
                        "marker": {
                          "colorbar": {
                            "outlinewidth": 0,
                            "ticks": ""
                          }
                        },
                        "type": "scatter3d"
                      }
                    ],
                    "scattercarpet": [
                      {
                        "marker": {
                          "colorbar": {
                            "outlinewidth": 0,
                            "ticks": ""
                          }
                        },
                        "type": "scattercarpet"
                      }
                    ],
                    "scattergeo": [
                      {
                        "marker": {
                          "colorbar": {
                            "outlinewidth": 0,
                            "ticks": ""
                          }
                        },
                        "type": "scattergeo"
                      }
                    ],
                    "scattergl": [
                      {
                        "marker": {
                          "colorbar": {
                            "outlinewidth": 0,
                            "ticks": ""
                          }
                        },
                        "type": "scattergl"
                      }
                    ],
                    "scattermapbox": [
                      {
                        "marker": {
                          "colorbar": {
                            "outlinewidth": 0,
                            "ticks": ""
                          }
                        },
                        "type": "scattermapbox"
                      }
                    ],
                    "scatterpolar": [
                      {
                        "marker": {
                          "colorbar": {
                            "outlinewidth": 0,
                            "ticks": ""
                          }
                        },
                        "type": "scatterpolar"
                      }
                    ],
                    "scatterpolargl": [
                      {
                        "marker": {
                          "colorbar": {
                            "outlinewidth": 0,
                            "ticks": ""
                          }
                        },
                        "type": "scatterpolargl"
                      }
                    ],
                    "scatterternary": [
                      {
                        "marker": {
                          "colorbar": {
                            "outlinewidth": 0,
                            "ticks": ""
                          }
                        },
                        "type": "scatterternary"
                      }
                    ],
                    "surface": [
                      {
                        "colorbar": {
                          "outlinewidth": 0,
                          "ticks": ""
                        },
                        "colorscale": [
                          [
                            0,
                            "#0d0887"
                          ],
                          [
                            0.1111111111111111,
                            "#46039f"
                          ],
                          [
                            0.2222222222222222,
                            "#7201a8"
                          ],
                          [
                            0.3333333333333333,
                            "#9c179e"
                          ],
                          [
                            0.4444444444444444,
                            "#bd3786"
                          ],
                          [
                            0.5555555555555556,
                            "#d8576b"
                          ],
                          [
                            0.6666666666666666,
                            "#ed7953"
                          ],
                          [
                            0.7777777777777778,
                            "#fb9f3a"
                          ],
                          [
                            0.8888888888888888,
                            "#fdca26"
                          ],
                          [
                            1,
                            "#f0f921"
                          ]
                        ],
                        "type": "surface"
                      }
                    ],
                    "table": [
                      {
                        "cells": {
                          "fill": {
                            "color": "#EBF0F8"
                          },
                          "line": {
                            "color": "white"
                          }
                        },
                        "header": {
                          "fill": {
                            "color": "#C8D4E3"
                          },
                          "line": {
                            "color": "white"
                          }
                        },
                        "type": "table"
                      }
                    ]
                  },
                  "layout": {
                    "annotationdefaults": {
                      "arrowcolor": "#2a3f5f",
                      "arrowhead": 0,
                      "arrowwidth": 1
                    },
                    "autotypenumbers": "strict",
                    "coloraxis": {
                      "colorbar": {
                        "outlinewidth": 0,
                        "ticks": ""
                      }
                    },
                    "colorscale": {
                      "diverging": [
                        [
                          0,
                          "#8e0152"
                        ],
                        [
                          0.1,
                          "#c51b7d"
                        ],
                        [
                          0.2,
                          "#de77ae"
                        ],
                        [
                          0.3,
                          "#f1b6da"
                        ],
                        [
                          0.4,
                          "#fde0ef"
                        ],
                        [
                          0.5,
                          "#f7f7f7"
                        ],
                        [
                          0.6,
                          "#e6f5d0"
                        ],
                        [
                          0.7,
                          "#b8e186"
                        ],
                        [
                          0.8,
                          "#7fbc41"
                        ],
                        [
                          0.9,
                          "#4d9221"
                        ],
                        [
                          1,
                          "#276419"
                        ]
                      ],
                      "sequential": [
                        [
                          0,
                          "#0d0887"
                        ],
                        [
                          0.1111111111111111,
                          "#46039f"
                        ],
                        [
                          0.2222222222222222,
                          "#7201a8"
                        ],
                        [
                          0.3333333333333333,
                          "#9c179e"
                        ],
                        [
                          0.4444444444444444,
                          "#bd3786"
                        ],
                        [
                          0.5555555555555556,
                          "#d8576b"
                        ],
                        [
                          0.6666666666666666,
                          "#ed7953"
                        ],
                        [
                          0.7777777777777778,
                          "#fb9f3a"
                        ],
                        [
                          0.8888888888888888,
                          "#fdca26"
                        ],
                        [
                          1,
                          "#f0f921"
                        ]
                      ],
                      "sequentialminus": [
                        [
                          0,
                          "#0d0887"
                        ],
                        [
                          0.1111111111111111,
                          "#46039f"
                        ],
                        [
                          0.2222222222222222,
                          "#7201a8"
                        ],
                        [
                          0.3333333333333333,
                          "#9c179e"
                        ],
                        [
                          0.4444444444444444,
                          "#bd3786"
                        ],
                        [
                          0.5555555555555556,
                          "#d8576b"
                        ],
                        [
                          0.6666666666666666,
                          "#ed7953"
                        ],
                        [
                          0.7777777777777778,
                          "#fb9f3a"
                        ],
                        [
                          0.8888888888888888,
                          "#fdca26"
                        ],
                        [
                          1,
                          "#f0f921"
                        ]
                      ]
                    },
                    "colorway": [
                      "#636efa",
                      "#EF553B",
                      "#00cc96",
                      "#ab63fa",
                      "#FFA15A",
                      "#19d3f3",
                      "#FF6692",
                      "#B6E880",
                      "#FF97FF",
                      "#FECB52"
                    ],
                    "font": {
                      "color": "#2a3f5f"
                    },
                    "geo": {
                      "bgcolor": "white",
                      "lakecolor": "white",
                      "landcolor": "#E5ECF6",
                      "showlakes": true,
                      "showland": true,
                      "subunitcolor": "white"
                    },
                    "hoverlabel": {
                      "align": "left"
                    },
                    "hovermode": "closest",
                    "mapbox": {
                      "style": "light"
                    },
                    "paper_bgcolor": "white",
                    "plot_bgcolor": "#E5ECF6",
                    "polar": {
                      "angularaxis": {
                        "gridcolor": "white",
                        "linecolor": "white",
                        "ticks": ""
                      },
                      "bgcolor": "#E5ECF6",
                      "radialaxis": {
                        "gridcolor": "white",
                        "linecolor": "white",
                        "ticks": ""
                      }
                    },
                    "scene": {
                      "xaxis": {
                        "backgroundcolor": "#E5ECF6",
                        "gridcolor": "white",
                        "gridwidth": 2,
                        "linecolor": "white",
                        "showbackground": true,
                        "ticks": "",
                        "zerolinecolor": "white"
                      },
                      "yaxis": {
                        "backgroundcolor": "#E5ECF6",
                        "gridcolor": "white",
                        "gridwidth": 2,
                        "linecolor": "white",
                        "showbackground": true,
                        "ticks": "",
                        "zerolinecolor": "white"
                      },
                      "zaxis": {
                        "backgroundcolor": "#E5ECF6",
                        "gridcolor": "white",
                        "gridwidth": 2,
                        "linecolor": "white",
                        "showbackground": true,
                        "ticks": "",
                        "zerolinecolor": "white"
                      }
                    },
                    "shapedefaults": {
                      "line": {
                        "color": "#2a3f5f"
                      }
                    },
                    "ternary": {
                      "aaxis": {
                        "gridcolor": "white",
                        "linecolor": "white",
                        "ticks": ""
                      },
                      "baxis": {
                        "gridcolor": "white",
                        "linecolor": "white",
                        "ticks": ""
                      },
                      "bgcolor": "#E5ECF6",
                      "caxis": {
                        "gridcolor": "white",
                        "linecolor": "white",
                        "ticks": ""
                      }
                    },
                    "title": {
                      "x": 0.05
                    },
                    "xaxis": {
                      "automargin": true,
                      "gridcolor": "white",
                      "linecolor": "white",
                      "ticks": "",
                      "title": {
                        "standoff": 15
                      },
                      "zerolinecolor": "white",
                      "zerolinewidth": 2
                    },
                    "yaxis": {
                      "automargin": true,
                      "gridcolor": "white",
                      "linecolor": "white",
                      "ticks": "",
                      "title": {
                        "standoff": 15
                      },
                      "zerolinecolor": "white",
                      "zerolinewidth": 2
                    }
                  }
                },
                "title": {
                  "text": "Validation Data Distribution ",
                  "x": 0.5,
                  "xanchor": "center",
                  "y": 0.95,
                  "yanchor": "top"
                },
                "xaxis": {
                  "anchor": "y",
                  "domain": [
                    0,
                    1
                  ],
                  "title": {
                    "text": "Classes"
                  }
                },
                "yaxis": {
                  "anchor": "x",
                  "domain": [
                    0,
                    1
                  ],
                  "title": {
                    "text": "Number of Images"
                  }
                }
              }
            }
          },
          "metadata": {},
          "output_type": "display_data"
        }
      ],
      "source": [
        "fig = px.bar(x = CLASS_LABELS,\n",
        "             y = [list(validation_generator.classes).count(i) for i in np.unique(validation_generator.classes)] ,\n",
        "             color = np.unique(train_generator.classes) ,\n",
        "             color_continuous_scale=\"Emrld\")\n",
        "fig.update_xaxes(title=\"Classes\")\n",
        "fig.update_yaxes(title = \"Number of Images\")\n",
        "fig.update_layout(showlegend = True,\n",
        "    title = {\n",
        "        'text': 'Validation Data Distribution ',\n",
        "        'y':0.95,\n",
        "        'x':0.5,\n",
        "        'xanchor': 'center',\n",
        "        'yanchor': 'top'})\n",
        "fig.show()"
      ]
    },
    {
      "attachments": {},
      "cell_type": "markdown",
      "metadata": {
        "id": "IuvV0T41HAnj"
      },
      "source": [
        "### Test Data Distribution"
      ]
    },
    {
      "cell_type": "code",
      "execution_count": 8,
      "metadata": {
        "_kg_hide-input": true,
        "colab": {
          "base_uri": "https://localhost:8080/",
          "height": 542
        },
        "execution": {
          "iopub.execute_input": "2022-11-01T10:33:11.535160Z",
          "iopub.status.busy": "2022-11-01T10:33:11.532222Z",
          "iopub.status.idle": "2022-11-01T10:33:11.972588Z",
          "shell.execute_reply": "2022-11-01T10:33:11.971952Z",
          "shell.execute_reply.started": "2022-11-01T10:33:11.535122Z"
        },
        "id": "drwa1mfiHAnj",
        "outputId": "61d7df62-44c5-443a-8556-c5c579215f21"
      },
      "outputs": [
        {
          "data": {
            "application/vnd.plotly.v1+json": {
              "config": {
                "plotlyServerURL": "https://plot.ly"
              },
              "data": [
                {
                  "alignmentgroup": "True",
                  "hovertemplate": "x=%{x}<br>y=%{y}<br>color=%{marker.color}<extra></extra>",
                  "legendgroup": "",
                  "marker": {
                    "color": [
                      0,
                      1,
                      2,
                      3,
                      4,
                      5,
                      6,
                      7,
                      8,
                      9
                    ],
                    "coloraxis": "coloraxis",
                    "pattern": {
                      "shape": ""
                    }
                  },
                  "name": "",
                  "offsetgroup": "",
                  "orientation": "v",
                  "showlegend": false,
                  "textposition": "auto",
                  "type": "bar",
                  "x": [
                    "gargoyle",
                    "dome(outer)",
                    "flying_buttress",
                    "altar",
                    "dome(inner)",
                    "bell_tower",
                    "vault",
                    "stained_glass",
                    "column",
                    "apse"
                  ],
                  "xaxis": "x",
                  "y": [
                    140,
                    50,
                    170,
                    210,
                    69,
                    142,
                    70,
                    240,
                    122,
                    163
                  ],
                  "yaxis": "y"
                }
              ],
              "layout": {
                "barmode": "relative",
                "coloraxis": {
                  "colorbar": {
                    "title": {
                      "text": "color"
                    }
                  },
                  "colorscale": [
                    [
                      0,
                      "rgb(211, 242, 163)"
                    ],
                    [
                      0.16666666666666666,
                      "rgb(151, 225, 150)"
                    ],
                    [
                      0.3333333333333333,
                      "rgb(108, 192, 139)"
                    ],
                    [
                      0.5,
                      "rgb(76, 155, 130)"
                    ],
                    [
                      0.6666666666666666,
                      "rgb(33, 122, 121)"
                    ],
                    [
                      0.8333333333333334,
                      "rgb(16, 89, 101)"
                    ],
                    [
                      1,
                      "rgb(7, 64, 80)"
                    ]
                  ]
                },
                "legend": {
                  "tracegroupgap": 0
                },
                "margin": {
                  "t": 60
                },
                "showlegend": true,
                "template": {
                  "data": {
                    "bar": [
                      {
                        "error_x": {
                          "color": "#2a3f5f"
                        },
                        "error_y": {
                          "color": "#2a3f5f"
                        },
                        "marker": {
                          "line": {
                            "color": "#E5ECF6",
                            "width": 0.5
                          },
                          "pattern": {
                            "fillmode": "overlay",
                            "size": 10,
                            "solidity": 0.2
                          }
                        },
                        "type": "bar"
                      }
                    ],
                    "barpolar": [
                      {
                        "marker": {
                          "line": {
                            "color": "#E5ECF6",
                            "width": 0.5
                          },
                          "pattern": {
                            "fillmode": "overlay",
                            "size": 10,
                            "solidity": 0.2
                          }
                        },
                        "type": "barpolar"
                      }
                    ],
                    "carpet": [
                      {
                        "aaxis": {
                          "endlinecolor": "#2a3f5f",
                          "gridcolor": "white",
                          "linecolor": "white",
                          "minorgridcolor": "white",
                          "startlinecolor": "#2a3f5f"
                        },
                        "baxis": {
                          "endlinecolor": "#2a3f5f",
                          "gridcolor": "white",
                          "linecolor": "white",
                          "minorgridcolor": "white",
                          "startlinecolor": "#2a3f5f"
                        },
                        "type": "carpet"
                      }
                    ],
                    "choropleth": [
                      {
                        "colorbar": {
                          "outlinewidth": 0,
                          "ticks": ""
                        },
                        "type": "choropleth"
                      }
                    ],
                    "contour": [
                      {
                        "colorbar": {
                          "outlinewidth": 0,
                          "ticks": ""
                        },
                        "colorscale": [
                          [
                            0,
                            "#0d0887"
                          ],
                          [
                            0.1111111111111111,
                            "#46039f"
                          ],
                          [
                            0.2222222222222222,
                            "#7201a8"
                          ],
                          [
                            0.3333333333333333,
                            "#9c179e"
                          ],
                          [
                            0.4444444444444444,
                            "#bd3786"
                          ],
                          [
                            0.5555555555555556,
                            "#d8576b"
                          ],
                          [
                            0.6666666666666666,
                            "#ed7953"
                          ],
                          [
                            0.7777777777777778,
                            "#fb9f3a"
                          ],
                          [
                            0.8888888888888888,
                            "#fdca26"
                          ],
                          [
                            1,
                            "#f0f921"
                          ]
                        ],
                        "type": "contour"
                      }
                    ],
                    "contourcarpet": [
                      {
                        "colorbar": {
                          "outlinewidth": 0,
                          "ticks": ""
                        },
                        "type": "contourcarpet"
                      }
                    ],
                    "heatmap": [
                      {
                        "colorbar": {
                          "outlinewidth": 0,
                          "ticks": ""
                        },
                        "colorscale": [
                          [
                            0,
                            "#0d0887"
                          ],
                          [
                            0.1111111111111111,
                            "#46039f"
                          ],
                          [
                            0.2222222222222222,
                            "#7201a8"
                          ],
                          [
                            0.3333333333333333,
                            "#9c179e"
                          ],
                          [
                            0.4444444444444444,
                            "#bd3786"
                          ],
                          [
                            0.5555555555555556,
                            "#d8576b"
                          ],
                          [
                            0.6666666666666666,
                            "#ed7953"
                          ],
                          [
                            0.7777777777777778,
                            "#fb9f3a"
                          ],
                          [
                            0.8888888888888888,
                            "#fdca26"
                          ],
                          [
                            1,
                            "#f0f921"
                          ]
                        ],
                        "type": "heatmap"
                      }
                    ],
                    "heatmapgl": [
                      {
                        "colorbar": {
                          "outlinewidth": 0,
                          "ticks": ""
                        },
                        "colorscale": [
                          [
                            0,
                            "#0d0887"
                          ],
                          [
                            0.1111111111111111,
                            "#46039f"
                          ],
                          [
                            0.2222222222222222,
                            "#7201a8"
                          ],
                          [
                            0.3333333333333333,
                            "#9c179e"
                          ],
                          [
                            0.4444444444444444,
                            "#bd3786"
                          ],
                          [
                            0.5555555555555556,
                            "#d8576b"
                          ],
                          [
                            0.6666666666666666,
                            "#ed7953"
                          ],
                          [
                            0.7777777777777778,
                            "#fb9f3a"
                          ],
                          [
                            0.8888888888888888,
                            "#fdca26"
                          ],
                          [
                            1,
                            "#f0f921"
                          ]
                        ],
                        "type": "heatmapgl"
                      }
                    ],
                    "histogram": [
                      {
                        "marker": {
                          "pattern": {
                            "fillmode": "overlay",
                            "size": 10,
                            "solidity": 0.2
                          }
                        },
                        "type": "histogram"
                      }
                    ],
                    "histogram2d": [
                      {
                        "colorbar": {
                          "outlinewidth": 0,
                          "ticks": ""
                        },
                        "colorscale": [
                          [
                            0,
                            "#0d0887"
                          ],
                          [
                            0.1111111111111111,
                            "#46039f"
                          ],
                          [
                            0.2222222222222222,
                            "#7201a8"
                          ],
                          [
                            0.3333333333333333,
                            "#9c179e"
                          ],
                          [
                            0.4444444444444444,
                            "#bd3786"
                          ],
                          [
                            0.5555555555555556,
                            "#d8576b"
                          ],
                          [
                            0.6666666666666666,
                            "#ed7953"
                          ],
                          [
                            0.7777777777777778,
                            "#fb9f3a"
                          ],
                          [
                            0.8888888888888888,
                            "#fdca26"
                          ],
                          [
                            1,
                            "#f0f921"
                          ]
                        ],
                        "type": "histogram2d"
                      }
                    ],
                    "histogram2dcontour": [
                      {
                        "colorbar": {
                          "outlinewidth": 0,
                          "ticks": ""
                        },
                        "colorscale": [
                          [
                            0,
                            "#0d0887"
                          ],
                          [
                            0.1111111111111111,
                            "#46039f"
                          ],
                          [
                            0.2222222222222222,
                            "#7201a8"
                          ],
                          [
                            0.3333333333333333,
                            "#9c179e"
                          ],
                          [
                            0.4444444444444444,
                            "#bd3786"
                          ],
                          [
                            0.5555555555555556,
                            "#d8576b"
                          ],
                          [
                            0.6666666666666666,
                            "#ed7953"
                          ],
                          [
                            0.7777777777777778,
                            "#fb9f3a"
                          ],
                          [
                            0.8888888888888888,
                            "#fdca26"
                          ],
                          [
                            1,
                            "#f0f921"
                          ]
                        ],
                        "type": "histogram2dcontour"
                      }
                    ],
                    "mesh3d": [
                      {
                        "colorbar": {
                          "outlinewidth": 0,
                          "ticks": ""
                        },
                        "type": "mesh3d"
                      }
                    ],
                    "parcoords": [
                      {
                        "line": {
                          "colorbar": {
                            "outlinewidth": 0,
                            "ticks": ""
                          }
                        },
                        "type": "parcoords"
                      }
                    ],
                    "pie": [
                      {
                        "automargin": true,
                        "type": "pie"
                      }
                    ],
                    "scatter": [
                      {
                        "fillpattern": {
                          "fillmode": "overlay",
                          "size": 10,
                          "solidity": 0.2
                        },
                        "type": "scatter"
                      }
                    ],
                    "scatter3d": [
                      {
                        "line": {
                          "colorbar": {
                            "outlinewidth": 0,
                            "ticks": ""
                          }
                        },
                        "marker": {
                          "colorbar": {
                            "outlinewidth": 0,
                            "ticks": ""
                          }
                        },
                        "type": "scatter3d"
                      }
                    ],
                    "scattercarpet": [
                      {
                        "marker": {
                          "colorbar": {
                            "outlinewidth": 0,
                            "ticks": ""
                          }
                        },
                        "type": "scattercarpet"
                      }
                    ],
                    "scattergeo": [
                      {
                        "marker": {
                          "colorbar": {
                            "outlinewidth": 0,
                            "ticks": ""
                          }
                        },
                        "type": "scattergeo"
                      }
                    ],
                    "scattergl": [
                      {
                        "marker": {
                          "colorbar": {
                            "outlinewidth": 0,
                            "ticks": ""
                          }
                        },
                        "type": "scattergl"
                      }
                    ],
                    "scattermapbox": [
                      {
                        "marker": {
                          "colorbar": {
                            "outlinewidth": 0,
                            "ticks": ""
                          }
                        },
                        "type": "scattermapbox"
                      }
                    ],
                    "scatterpolar": [
                      {
                        "marker": {
                          "colorbar": {
                            "outlinewidth": 0,
                            "ticks": ""
                          }
                        },
                        "type": "scatterpolar"
                      }
                    ],
                    "scatterpolargl": [
                      {
                        "marker": {
                          "colorbar": {
                            "outlinewidth": 0,
                            "ticks": ""
                          }
                        },
                        "type": "scatterpolargl"
                      }
                    ],
                    "scatterternary": [
                      {
                        "marker": {
                          "colorbar": {
                            "outlinewidth": 0,
                            "ticks": ""
                          }
                        },
                        "type": "scatterternary"
                      }
                    ],
                    "surface": [
                      {
                        "colorbar": {
                          "outlinewidth": 0,
                          "ticks": ""
                        },
                        "colorscale": [
                          [
                            0,
                            "#0d0887"
                          ],
                          [
                            0.1111111111111111,
                            "#46039f"
                          ],
                          [
                            0.2222222222222222,
                            "#7201a8"
                          ],
                          [
                            0.3333333333333333,
                            "#9c179e"
                          ],
                          [
                            0.4444444444444444,
                            "#bd3786"
                          ],
                          [
                            0.5555555555555556,
                            "#d8576b"
                          ],
                          [
                            0.6666666666666666,
                            "#ed7953"
                          ],
                          [
                            0.7777777777777778,
                            "#fb9f3a"
                          ],
                          [
                            0.8888888888888888,
                            "#fdca26"
                          ],
                          [
                            1,
                            "#f0f921"
                          ]
                        ],
                        "type": "surface"
                      }
                    ],
                    "table": [
                      {
                        "cells": {
                          "fill": {
                            "color": "#EBF0F8"
                          },
                          "line": {
                            "color": "white"
                          }
                        },
                        "header": {
                          "fill": {
                            "color": "#C8D4E3"
                          },
                          "line": {
                            "color": "white"
                          }
                        },
                        "type": "table"
                      }
                    ]
                  },
                  "layout": {
                    "annotationdefaults": {
                      "arrowcolor": "#2a3f5f",
                      "arrowhead": 0,
                      "arrowwidth": 1
                    },
                    "autotypenumbers": "strict",
                    "coloraxis": {
                      "colorbar": {
                        "outlinewidth": 0,
                        "ticks": ""
                      }
                    },
                    "colorscale": {
                      "diverging": [
                        [
                          0,
                          "#8e0152"
                        ],
                        [
                          0.1,
                          "#c51b7d"
                        ],
                        [
                          0.2,
                          "#de77ae"
                        ],
                        [
                          0.3,
                          "#f1b6da"
                        ],
                        [
                          0.4,
                          "#fde0ef"
                        ],
                        [
                          0.5,
                          "#f7f7f7"
                        ],
                        [
                          0.6,
                          "#e6f5d0"
                        ],
                        [
                          0.7,
                          "#b8e186"
                        ],
                        [
                          0.8,
                          "#7fbc41"
                        ],
                        [
                          0.9,
                          "#4d9221"
                        ],
                        [
                          1,
                          "#276419"
                        ]
                      ],
                      "sequential": [
                        [
                          0,
                          "#0d0887"
                        ],
                        [
                          0.1111111111111111,
                          "#46039f"
                        ],
                        [
                          0.2222222222222222,
                          "#7201a8"
                        ],
                        [
                          0.3333333333333333,
                          "#9c179e"
                        ],
                        [
                          0.4444444444444444,
                          "#bd3786"
                        ],
                        [
                          0.5555555555555556,
                          "#d8576b"
                        ],
                        [
                          0.6666666666666666,
                          "#ed7953"
                        ],
                        [
                          0.7777777777777778,
                          "#fb9f3a"
                        ],
                        [
                          0.8888888888888888,
                          "#fdca26"
                        ],
                        [
                          1,
                          "#f0f921"
                        ]
                      ],
                      "sequentialminus": [
                        [
                          0,
                          "#0d0887"
                        ],
                        [
                          0.1111111111111111,
                          "#46039f"
                        ],
                        [
                          0.2222222222222222,
                          "#7201a8"
                        ],
                        [
                          0.3333333333333333,
                          "#9c179e"
                        ],
                        [
                          0.4444444444444444,
                          "#bd3786"
                        ],
                        [
                          0.5555555555555556,
                          "#d8576b"
                        ],
                        [
                          0.6666666666666666,
                          "#ed7953"
                        ],
                        [
                          0.7777777777777778,
                          "#fb9f3a"
                        ],
                        [
                          0.8888888888888888,
                          "#fdca26"
                        ],
                        [
                          1,
                          "#f0f921"
                        ]
                      ]
                    },
                    "colorway": [
                      "#636efa",
                      "#EF553B",
                      "#00cc96",
                      "#ab63fa",
                      "#FFA15A",
                      "#19d3f3",
                      "#FF6692",
                      "#B6E880",
                      "#FF97FF",
                      "#FECB52"
                    ],
                    "font": {
                      "color": "#2a3f5f"
                    },
                    "geo": {
                      "bgcolor": "white",
                      "lakecolor": "white",
                      "landcolor": "#E5ECF6",
                      "showlakes": true,
                      "showland": true,
                      "subunitcolor": "white"
                    },
                    "hoverlabel": {
                      "align": "left"
                    },
                    "hovermode": "closest",
                    "mapbox": {
                      "style": "light"
                    },
                    "paper_bgcolor": "white",
                    "plot_bgcolor": "#E5ECF6",
                    "polar": {
                      "angularaxis": {
                        "gridcolor": "white",
                        "linecolor": "white",
                        "ticks": ""
                      },
                      "bgcolor": "#E5ECF6",
                      "radialaxis": {
                        "gridcolor": "white",
                        "linecolor": "white",
                        "ticks": ""
                      }
                    },
                    "scene": {
                      "xaxis": {
                        "backgroundcolor": "#E5ECF6",
                        "gridcolor": "white",
                        "gridwidth": 2,
                        "linecolor": "white",
                        "showbackground": true,
                        "ticks": "",
                        "zerolinecolor": "white"
                      },
                      "yaxis": {
                        "backgroundcolor": "#E5ECF6",
                        "gridcolor": "white",
                        "gridwidth": 2,
                        "linecolor": "white",
                        "showbackground": true,
                        "ticks": "",
                        "zerolinecolor": "white"
                      },
                      "zaxis": {
                        "backgroundcolor": "#E5ECF6",
                        "gridcolor": "white",
                        "gridwidth": 2,
                        "linecolor": "white",
                        "showbackground": true,
                        "ticks": "",
                        "zerolinecolor": "white"
                      }
                    },
                    "shapedefaults": {
                      "line": {
                        "color": "#2a3f5f"
                      }
                    },
                    "ternary": {
                      "aaxis": {
                        "gridcolor": "white",
                        "linecolor": "white",
                        "ticks": ""
                      },
                      "baxis": {
                        "gridcolor": "white",
                        "linecolor": "white",
                        "ticks": ""
                      },
                      "bgcolor": "#E5ECF6",
                      "caxis": {
                        "gridcolor": "white",
                        "linecolor": "white",
                        "ticks": ""
                      }
                    },
                    "title": {
                      "x": 0.05
                    },
                    "xaxis": {
                      "automargin": true,
                      "gridcolor": "white",
                      "linecolor": "white",
                      "ticks": "",
                      "title": {
                        "standoff": 15
                      },
                      "zerolinecolor": "white",
                      "zerolinewidth": 2
                    },
                    "yaxis": {
                      "automargin": true,
                      "gridcolor": "white",
                      "linecolor": "white",
                      "ticks": "",
                      "title": {
                        "standoff": 15
                      },
                      "zerolinecolor": "white",
                      "zerolinewidth": 2
                    }
                  }
                },
                "title": {
                  "text": "Test Data Distribution ",
                  "x": 0.5,
                  "xanchor": "center",
                  "y": 0.95,
                  "yanchor": "top"
                },
                "xaxis": {
                  "anchor": "y",
                  "domain": [
                    0,
                    1
                  ],
                  "title": {
                    "text": "Classes"
                  }
                },
                "yaxis": {
                  "anchor": "x",
                  "domain": [
                    0,
                    1
                  ],
                  "title": {
                    "text": "Number of Images"
                  }
                }
              }
            }
          },
          "metadata": {},
          "output_type": "display_data"
        }
      ],
      "source": [
        "fig = px.bar(x = CLASS_LABELS,\n",
        "             y = [list(test_generator.classes).count(i) for i in np.unique(test_generator.classes)] ,\n",
        "             color = np.unique(train_generator.classes) ,\n",
        "             color_continuous_scale=\"Emrld\")\n",
        "fig.update_xaxes(title=\"Classes\")\n",
        "fig.update_yaxes(title = \"Number of Images\")\n",
        "fig.update_layout(showlegend = True,\n",
        "    title = {\n",
        "        'text': 'Test Data Distribution ',\n",
        "        'y':0.95,\n",
        "        'x':0.5,\n",
        "        'xanchor': 'center',\n",
        "        'yanchor': 'top'})\n",
        "fig.show()"
      ]
    },
    {
      "cell_type": "code",
      "execution_count": 9,
      "metadata": {
        "id": "ZBFM2Bike0-o"
      },
      "outputs": [],
      "source": [
        "from tensorflow.keras.callbacks import ModelCheckpoint\n",
        "\n",
        "filepath=\"weights-improvementdesnet121-{epoch:02d}-{val_accuracy:.2f}.hdf5\"\n",
        "checkpoint = ModelCheckpoint(filepath, monitor='val_accuracy', verbose=1, save_best_only=True, mode='max')\n",
        "callbacks_list = [checkpoint]"
      ]
    },
    {
      "attachments": {},
      "cell_type": "markdown",
      "metadata": {
        "id": "pMU9U9fhHAnj"
      },
      "source": [
        "<a id=\"model\"></a>\n",
        "# <center> DenseNet121 Transfer Learning  </center>"
      ]
    },
    {
      "cell_type": "code",
      "execution_count": 20,
      "metadata": {
        "colab": {
          "base_uri": "https://localhost:8080/"
        },
        "execution": {
          "iopub.execute_input": "2022-11-01T10:33:11.978125Z",
          "iopub.status.busy": "2022-11-01T10:33:11.976302Z",
          "iopub.status.idle": "2022-11-01T10:33:19.811096Z",
          "shell.execute_reply": "2022-11-01T10:33:19.810257Z",
          "shell.execute_reply.started": "2022-11-01T10:33:11.978088Z"
        },
        "id": "Z0n29meAHAnj",
        "outputId": "2eca776b-39de-48fe-e85a-136c36b52bd2"
      },
      "outputs": [
        {
          "name": "stdout",
          "output_type": "stream",
          "text": [
            "Model: \"model_3\"\n",
            "_________________________________________________________________\n",
            " Layer (type)                Output Shape              Param #   \n",
            "=================================================================\n",
            " input_7 (InputLayer)        [(None, 64, 64, 3)]       0         \n",
            "                                                                 \n",
            " densenet121 (Functional)    (None, 2, 2, 1024)        7037504   \n",
            "                                                                 \n",
            " global_average_pooling2d_3   (None, 1024)             0         \n",
            " (GlobalAveragePooling2D)                                        \n",
            "                                                                 \n",
            " dense_9 (Dense)             (None, 256)               262400    \n",
            "                                                                 \n",
            " batch_normalization_6 (Batc  (None, 256)              1024      \n",
            " hNormalization)                                                 \n",
            "                                                                 \n",
            " dropout_9 (Dropout)         (None, 256)               0         \n",
            "                                                                 \n",
            " dense_10 (Dense)            (None, 1024)              263168    \n",
            "                                                                 \n",
            " batch_normalization_7 (Batc  (None, 1024)             4096      \n",
            " hNormalization)                                                 \n",
            "                                                                 \n",
            " dropout_10 (Dropout)        (None, 1024)              0         \n",
            "                                                                 \n",
            " dense_11 (Dense)            (None, 512)               524800    \n",
            "                                                                 \n",
            " batch_normalization_8 (Batc  (None, 512)              2048      \n",
            " hNormalization)                                                 \n",
            "                                                                 \n",
            " dropout_11 (Dropout)        (None, 512)               0         \n",
            "                                                                 \n",
            " classification (Dense)      (None, 10)                5130      \n",
            "                                                                 \n",
            "=================================================================\n",
            "Total params: 8,100,170\n",
            "Trainable params: 8,012,938\n",
            "Non-trainable params: 87,232\n",
            "_________________________________________________________________\n"
          ]
        }
      ],
      "source": [
        "def feature_extractor(inputs):\n",
        "    feature_extractor = tf.keras.applications.DenseNet121(input_shape=(IMG_HEIGHT,IMG_WIDTH, 3),\n",
        "                                               include_top=False,\n",
        "                                               weights=\"imagenet\")(inputs)\n",
        "\n",
        "    return feature_extractor\n",
        "\n",
        "def classifier(inputs):\n",
        "    x = tf.keras.layers.GlobalAveragePooling2D()(inputs)\n",
        "    x = tf.keras.layers.Dense(256, activation=\"relu\")(x)\n",
        "    x = tf.keras.layers.BatchNormalization()(x)\n",
        "    x = tf.keras.layers.Dropout(0.3)(x)\n",
        "    x = tf.keras.layers.Dense(1024, activation=\"relu\")(x)\n",
        "    x = tf.keras.layers.BatchNormalization()(x)\n",
        "    x = tf.keras.layers.Dropout(0.5)(x)\n",
        "    x = tf.keras.layers.Dense(512, activation=\"relu\")(x)\n",
        "    x = tf.keras.layers.BatchNormalization()(x)\n",
        "    x = tf.keras.layers.Dropout(0.4) (x)\n",
        "    x = tf.keras.layers.Dense(10, activation=\"softmax\", name=\"classification\")(x)\n",
        "\n",
        "    return x\n",
        "\n",
        "def final_model(inputs):\n",
        "    densenet_feature_extractor = feature_extractor(inputs)\n",
        "    classification_output = classifier(densenet_feature_extractor)\n",
        "\n",
        "    return classification_output\n",
        "\n",
        "def define_compile_model():\n",
        "\n",
        "    inputs = tf.keras.layers.Input(shape=(IMG_HEIGHT ,IMG_WIDTH,3))\n",
        "    classification_output = final_model(inputs)\n",
        "    model = tf.keras.Model(inputs=inputs, outputs = classification_output)\n",
        "\n",
        "    model.compile(optimizer=tf.keras.optimizers.SGD(LR),\n",
        "                loss='categorical_crossentropy',\n",
        "                metrics = ['accuracy'])\n",
        "    return model\n",
        "\n",
        "model = define_compile_model()\n",
        "# clear_output()\n",
        "model.summary()"
      ]
    },
    {
      "attachments": {},
      "cell_type": "markdown",
      "metadata": {
        "id": "8-bNmItoHAnj"
      },
      "source": [
        "<a id=\"train\"></a>\n",
        "# <center> Training </center>"
      ]
    },
    {
      "cell_type": "code",
      "execution_count": 24,
      "metadata": {
        "colab": {
          "base_uri": "https://localhost:8080/"
        },
        "execution": {
          "iopub.execute_input": "2022-11-01T10:33:19.813510Z",
          "iopub.status.busy": "2022-11-01T10:33:19.813212Z"
        },
        "id": "QWd3lTWMHAnj",
        "outputId": "2137bdba-f951-4e73-d9b0-2a55ee527c2e"
      },
      "outputs": [
        {
          "name": "stdout",
          "output_type": "stream",
          "text": [
            "Epoch 1/100\n",
            "125/125 [==============================] - ETA: 0s - loss: 0.0378 - accuracy: 0.9883\n",
            "Epoch 1: val_accuracy did not improve from 0.89819\n",
            "125/125 [==============================] - 301s 2s/step - loss: 0.0378 - accuracy: 0.9883 - val_loss: 0.5187 - val_accuracy: 0.8760\n",
            "Epoch 2/100\n",
            "125/125 [==============================] - ETA: 0s - loss: 0.0266 - accuracy: 0.9913\n",
            "Epoch 2: val_accuracy did not improve from 0.89819\n",
            "125/125 [==============================] - 399s 3s/step - loss: 0.0266 - accuracy: 0.9913 - val_loss: 0.5017 - val_accuracy: 0.8906\n",
            "Epoch 3/100\n",
            "125/125 [==============================] - ETA: 0s - loss: 0.0338 - accuracy: 0.9881\n",
            "Epoch 3: val_accuracy did not improve from 0.89819\n",
            "125/125 [==============================] - 547s 4s/step - loss: 0.0338 - accuracy: 0.9881 - val_loss: 0.5154 - val_accuracy: 0.8911\n",
            "Epoch 4/100\n",
            "125/125 [==============================] - ETA: 0s - loss: 0.0682 - accuracy: 0.9806\n",
            "Epoch 4: val_accuracy did not improve from 0.89819\n",
            "125/125 [==============================] - 474s 4s/step - loss: 0.0682 - accuracy: 0.9806 - val_loss: 0.5123 - val_accuracy: 0.8720\n",
            "Epoch 5/100\n",
            "125/125 [==============================] - ETA: 0s - loss: 0.0433 - accuracy: 0.9868\n",
            "Epoch 5: val_accuracy did not improve from 0.89819\n",
            "125/125 [==============================] - 325s 3s/step - loss: 0.0433 - accuracy: 0.9868 - val_loss: 0.5552 - val_accuracy: 0.8745\n",
            "Epoch 6/100\n",
            "125/125 [==============================] - ETA: 0s - loss: 0.0664 - accuracy: 0.9803\n",
            "Epoch 6: val_accuracy did not improve from 0.89819\n",
            "125/125 [==============================] - 293s 2s/step - loss: 0.0664 - accuracy: 0.9803 - val_loss: 0.6004 - val_accuracy: 0.8599\n",
            "Epoch 7/100\n",
            "125/125 [==============================] - ETA: 0s - loss: 0.0440 - accuracy: 0.9857\n",
            "Epoch 7: val_accuracy did not improve from 0.89819\n",
            "125/125 [==============================] - 294s 2s/step - loss: 0.0440 - accuracy: 0.9857 - val_loss: 0.5392 - val_accuracy: 0.8805\n",
            "Epoch 8/100\n",
            "125/125 [==============================] - ETA: 0s - loss: 0.0466 - accuracy: 0.9857\n",
            "Epoch 8: val_accuracy did not improve from 0.89819\n",
            "125/125 [==============================] - 291s 2s/step - loss: 0.0466 - accuracy: 0.9857 - val_loss: 0.4753 - val_accuracy: 0.8876\n",
            "Epoch 9/100\n",
            "125/125 [==============================] - ETA: 0s - loss: 0.0332 - accuracy: 0.9896\n",
            "Epoch 9: val_accuracy did not improve from 0.89819\n",
            "125/125 [==============================] - 292s 2s/step - loss: 0.0332 - accuracy: 0.9896 - val_loss: 0.5919 - val_accuracy: 0.8730\n",
            "Epoch 10/100\n",
            "125/125 [==============================] - ETA: 0s - loss: 0.0477 - accuracy: 0.9862\n",
            "Epoch 10: val_accuracy did not improve from 0.89819\n",
            "125/125 [==============================] - 298s 2s/step - loss: 0.0477 - accuracy: 0.9862 - val_loss: 0.6226 - val_accuracy: 0.8715\n",
            "Epoch 11/100\n",
            "125/125 [==============================] - ETA: 0s - loss: 0.0345 - accuracy: 0.9889\n",
            "Epoch 11: val_accuracy did not improve from 0.89819\n",
            "125/125 [==============================] - 299s 2s/step - loss: 0.0345 - accuracy: 0.9889 - val_loss: 0.5723 - val_accuracy: 0.8710\n",
            "Epoch 12/100\n",
            "125/125 [==============================] - ETA: 0s - loss: 0.0489 - accuracy: 0.9855\n",
            "Epoch 12: val_accuracy did not improve from 0.89819\n",
            "125/125 [==============================] - 306s 2s/step - loss: 0.0489 - accuracy: 0.9855 - val_loss: 0.5565 - val_accuracy: 0.8775\n",
            "Epoch 13/100\n",
            "125/125 [==============================] - ETA: 0s - loss: 0.0361 - accuracy: 0.9891\n",
            "Epoch 13: val_accuracy did not improve from 0.89819\n",
            "125/125 [==============================] - 301s 2s/step - loss: 0.0361 - accuracy: 0.9891 - val_loss: 0.5114 - val_accuracy: 0.8931\n",
            "Epoch 14/100\n",
            "125/125 [==============================] - ETA: 0s - loss: 0.0230 - accuracy: 0.9933\n",
            "Epoch 14: val_accuracy improved from 0.89819 to 0.90121, saving model to weights-improvementdesnet121-14-0.90.hdf5\n",
            "125/125 [==============================] - 292s 2s/step - loss: 0.0230 - accuracy: 0.9933 - val_loss: 0.4305 - val_accuracy: 0.9012\n",
            "Epoch 15/100\n",
            "125/125 [==============================] - ETA: 0s - loss: 0.0169 - accuracy: 0.9936\n",
            "Epoch 15: val_accuracy did not improve from 0.90121\n",
            "125/125 [==============================] - 293s 2s/step - loss: 0.0169 - accuracy: 0.9936 - val_loss: 0.4777 - val_accuracy: 0.8876\n",
            "Epoch 16/100\n",
            "125/125 [==============================] - ETA: 0s - loss: 0.0253 - accuracy: 0.9925\n",
            "Epoch 16: val_accuracy did not improve from 0.90121\n",
            "125/125 [==============================] - 291s 2s/step - loss: 0.0253 - accuracy: 0.9925 - val_loss: 0.4891 - val_accuracy: 0.8896\n",
            "Epoch 17/100\n",
            "125/125 [==============================] - ETA: 0s - loss: 0.0367 - accuracy: 0.9887\n",
            "Epoch 17: val_accuracy did not improve from 0.90121\n",
            "125/125 [==============================] - 346s 3s/step - loss: 0.0367 - accuracy: 0.9887 - val_loss: 0.4824 - val_accuracy: 0.8926\n",
            "Epoch 18/100\n",
            "125/125 [==============================] - ETA: 0s - loss: 0.0368 - accuracy: 0.9893\n",
            "Epoch 18: val_accuracy did not improve from 0.90121\n",
            "125/125 [==============================] - 420s 3s/step - loss: 0.0368 - accuracy: 0.9893 - val_loss: 0.4821 - val_accuracy: 0.8901\n",
            "Epoch 19/100\n",
            "125/125 [==============================] - ETA: 0s - loss: 0.0249 - accuracy: 0.9931\n",
            "Epoch 19: val_accuracy did not improve from 0.90121\n",
            "125/125 [==============================] - 492s 4s/step - loss: 0.0249 - accuracy: 0.9931 - val_loss: 0.5089 - val_accuracy: 0.8836\n",
            "Epoch 20/100\n",
            "125/125 [==============================] - ETA: 0s - loss: 0.0299 - accuracy: 0.9911\n",
            "Epoch 20: val_accuracy did not improve from 0.90121\n",
            "125/125 [==============================] - 430s 3s/step - loss: 0.0299 - accuracy: 0.9911 - val_loss: 0.4725 - val_accuracy: 0.8896\n",
            "Epoch 21/100\n",
            "125/125 [==============================] - ETA: 0s - loss: 0.0177 - accuracy: 0.9937\n",
            "Epoch 21: val_accuracy did not improve from 0.90121\n",
            "125/125 [==============================] - 432s 3s/step - loss: 0.0177 - accuracy: 0.9937 - val_loss: 0.7049 - val_accuracy: 0.8513\n",
            "Epoch 22/100\n",
            "125/125 [==============================] - ETA: 0s - loss: 0.0292 - accuracy: 0.9908\n",
            "Epoch 22: val_accuracy did not improve from 0.90121\n",
            "125/125 [==============================] - 476s 4s/step - loss: 0.0292 - accuracy: 0.9908 - val_loss: 0.5415 - val_accuracy: 0.8886\n",
            "Epoch 23/100\n",
            "125/125 [==============================] - ETA: 0s - loss: 0.0181 - accuracy: 0.9941\n",
            "Epoch 23: val_accuracy did not improve from 0.90121\n",
            "125/125 [==============================] - 495s 4s/step - loss: 0.0181 - accuracy: 0.9941 - val_loss: 0.4822 - val_accuracy: 0.8947\n",
            "Epoch 24/100\n",
            "125/125 [==============================] - ETA: 0s - loss: 0.0217 - accuracy: 0.9927\n",
            "Epoch 24: val_accuracy did not improve from 0.90121\n",
            "125/125 [==============================] - 491s 4s/step - loss: 0.0217 - accuracy: 0.9927 - val_loss: 0.4981 - val_accuracy: 0.8926\n",
            "Epoch 25/100\n",
            "125/125 [==============================] - ETA: 0s - loss: 0.0373 - accuracy: 0.9892\n",
            "Epoch 25: val_accuracy did not improve from 0.90121\n",
            "125/125 [==============================] - 495s 4s/step - loss: 0.0373 - accuracy: 0.9892 - val_loss: 0.5590 - val_accuracy: 0.8836\n",
            "Epoch 26/100\n",
            "125/125 [==============================] - ETA: 0s - loss: 0.0485 - accuracy: 0.9853\n",
            "Epoch 26: val_accuracy did not improve from 0.90121\n",
            "125/125 [==============================] - 470s 4s/step - loss: 0.0485 - accuracy: 0.9853 - val_loss: 0.5442 - val_accuracy: 0.8866\n",
            "Epoch 27/100\n",
            "125/125 [==============================] - ETA: 0s - loss: 0.0245 - accuracy: 0.9918\n",
            "Epoch 27: val_accuracy improved from 0.90121 to 0.90373, saving model to weights-improvementdesnet121-27-0.90.hdf5\n",
            "125/125 [==============================] - 491s 4s/step - loss: 0.0245 - accuracy: 0.9918 - val_loss: 0.4427 - val_accuracy: 0.9037\n",
            "Epoch 28/100\n",
            "125/125 [==============================] - ETA: 0s - loss: 0.0197 - accuracy: 0.9943\n",
            "Epoch 28: val_accuracy did not improve from 0.90373\n",
            "125/125 [==============================] - 499s 4s/step - loss: 0.0197 - accuracy: 0.9943 - val_loss: 0.4987 - val_accuracy: 0.8931\n",
            "Epoch 29/100\n",
            "125/125 [==============================] - ETA: 0s - loss: 0.0253 - accuracy: 0.9915\n",
            "Epoch 29: val_accuracy did not improve from 0.90373\n",
            "125/125 [==============================] - 466s 4s/step - loss: 0.0253 - accuracy: 0.9915 - val_loss: 0.4922 - val_accuracy: 0.8947\n",
            "Epoch 30/100\n",
            "125/125 [==============================] - ETA: 0s - loss: 0.0244 - accuracy: 0.9922\n",
            "Epoch 30: val_accuracy did not improve from 0.90373\n",
            "125/125 [==============================] - 453s 4s/step - loss: 0.0244 - accuracy: 0.9922 - val_loss: 0.8528 - val_accuracy: 0.8453\n",
            "Epoch 31/100\n",
            "125/125 [==============================] - ETA: 0s - loss: 0.0304 - accuracy: 0.9907\n",
            "Epoch 31: val_accuracy did not improve from 0.90373\n",
            "125/125 [==============================] - 314s 3s/step - loss: 0.0304 - accuracy: 0.9907 - val_loss: 0.4510 - val_accuracy: 0.8987\n",
            "Epoch 32/100\n",
            "125/125 [==============================] - ETA: 0s - loss: 0.0183 - accuracy: 0.9932\n",
            "Epoch 32: val_accuracy did not improve from 0.90373\n",
            "125/125 [==============================] - 351s 3s/step - loss: 0.0183 - accuracy: 0.9932 - val_loss: 0.4846 - val_accuracy: 0.8936\n",
            "Epoch 33/100\n",
            "125/125 [==============================] - ETA: 0s - loss: 0.0137 - accuracy: 0.9953\n",
            "Epoch 33: val_accuracy did not improve from 0.90373\n",
            "125/125 [==============================] - 364s 3s/step - loss: 0.0137 - accuracy: 0.9953 - val_loss: 0.5348 - val_accuracy: 0.8947\n",
            "Epoch 34/100\n",
            "125/125 [==============================] - ETA: 0s - loss: 0.0164 - accuracy: 0.9955\n",
            "Epoch 34: val_accuracy did not improve from 0.90373\n",
            "125/125 [==============================] - 474s 4s/step - loss: 0.0164 - accuracy: 0.9955 - val_loss: 0.4863 - val_accuracy: 0.8972\n",
            "Epoch 35/100\n",
            "125/125 [==============================] - ETA: 0s - loss: 0.0207 - accuracy: 0.9940\n",
            "Epoch 35: val_accuracy did not improve from 0.90373\n",
            "125/125 [==============================] - 483s 4s/step - loss: 0.0207 - accuracy: 0.9940 - val_loss: 0.4755 - val_accuracy: 0.9017\n",
            "Epoch 36/100\n",
            "125/125 [==============================] - ETA: 0s - loss: 0.0197 - accuracy: 0.9938\n",
            "Epoch 36: val_accuracy did not improve from 0.90373\n",
            "125/125 [==============================] - 382s 3s/step - loss: 0.0197 - accuracy: 0.9938 - val_loss: 0.5142 - val_accuracy: 0.8936\n",
            "Epoch 37/100\n",
            "125/125 [==============================] - ETA: 0s - loss: 0.0194 - accuracy: 0.9933\n",
            "Epoch 37: val_accuracy did not improve from 0.90373\n",
            "125/125 [==============================] - 336s 3s/step - loss: 0.0194 - accuracy: 0.9933 - val_loss: 0.5259 - val_accuracy: 0.8967\n",
            "Epoch 38/100\n",
            "125/125 [==============================] - ETA: 0s - loss: 0.0248 - accuracy: 0.9921\n",
            "Epoch 38: val_accuracy did not improve from 0.90373\n",
            "125/125 [==============================] - 372s 3s/step - loss: 0.0248 - accuracy: 0.9921 - val_loss: 0.5041 - val_accuracy: 0.8926\n",
            "Epoch 39/100\n",
            "125/125 [==============================] - ETA: 0s - loss: 0.0212 - accuracy: 0.9941\n",
            "Epoch 39: val_accuracy did not improve from 0.90373\n",
            "125/125 [==============================] - 299s 2s/step - loss: 0.0212 - accuracy: 0.9941 - val_loss: 0.5257 - val_accuracy: 0.8967\n",
            "Epoch 40/100\n",
            "125/125 [==============================] - ETA: 0s - loss: 0.0142 - accuracy: 0.9955\n",
            "Epoch 40: val_accuracy did not improve from 0.90373\n",
            "125/125 [==============================] - 291s 2s/step - loss: 0.0142 - accuracy: 0.9955 - val_loss: 0.4853 - val_accuracy: 0.9037\n",
            "Epoch 41/100\n",
            "125/125 [==============================] - ETA: 0s - loss: 0.0117 - accuracy: 0.9964\n",
            "Epoch 41: val_accuracy did not improve from 0.90373\n",
            "125/125 [==============================] - 298s 2s/step - loss: 0.0117 - accuracy: 0.9964 - val_loss: 0.5003 - val_accuracy: 0.8977\n",
            "Epoch 42/100\n",
            "125/125 [==============================] - ETA: 0s - loss: 0.0197 - accuracy: 0.9936\n",
            "Epoch 42: val_accuracy did not improve from 0.90373\n",
            "125/125 [==============================] - 302s 2s/step - loss: 0.0197 - accuracy: 0.9936 - val_loss: 0.5400 - val_accuracy: 0.8886\n",
            "Epoch 43/100\n",
            "125/125 [==============================] - ETA: 0s - loss: 0.0151 - accuracy: 0.9953\n",
            "Epoch 43: val_accuracy did not improve from 0.90373\n",
            "125/125 [==============================] - 307s 2s/step - loss: 0.0151 - accuracy: 0.9953 - val_loss: 0.5065 - val_accuracy: 0.8977\n",
            "Epoch 44/100\n",
            "125/125 [==============================] - ETA: 0s - loss: 0.0218 - accuracy: 0.9936\n",
            "Epoch 44: val_accuracy did not improve from 0.90373\n",
            "125/125 [==============================] - 311s 2s/step - loss: 0.0218 - accuracy: 0.9936 - val_loss: 0.5300 - val_accuracy: 0.8962\n",
            "Epoch 45/100\n",
            "125/125 [==============================] - ETA: 0s - loss: 0.0209 - accuracy: 0.9943\n",
            "Epoch 45: val_accuracy did not improve from 0.90373\n",
            "125/125 [==============================] - 306s 2s/step - loss: 0.0209 - accuracy: 0.9943 - val_loss: 0.5729 - val_accuracy: 0.8846\n",
            "Epoch 46/100\n",
            "125/125 [==============================] - ETA: 0s - loss: 0.0191 - accuracy: 0.9935\n",
            "Epoch 46: val_accuracy did not improve from 0.90373\n",
            "125/125 [==============================] - 308s 2s/step - loss: 0.0191 - accuracy: 0.9935 - val_loss: 0.6027 - val_accuracy: 0.8871\n",
            "Epoch 47/100\n",
            "125/125 [==============================] - ETA: 0s - loss: 0.0194 - accuracy: 0.9932\n",
            "Epoch 47: val_accuracy did not improve from 0.90373\n",
            "125/125 [==============================] - 308s 2s/step - loss: 0.0194 - accuracy: 0.9932 - val_loss: 0.5543 - val_accuracy: 0.8957\n",
            "Epoch 48/100\n",
            "125/125 [==============================] - ETA: 0s - loss: 0.0161 - accuracy: 0.9945\n",
            "Epoch 48: val_accuracy did not improve from 0.90373\n",
            "125/125 [==============================] - 304s 2s/step - loss: 0.0161 - accuracy: 0.9945 - val_loss: 0.5415 - val_accuracy: 0.8967\n",
            "Epoch 49/100\n",
            "125/125 [==============================] - ETA: 0s - loss: 0.0167 - accuracy: 0.9945\n",
            "Epoch 49: val_accuracy did not improve from 0.90373\n",
            "125/125 [==============================] - 402s 3s/step - loss: 0.0167 - accuracy: 0.9945 - val_loss: 0.5266 - val_accuracy: 0.8931\n",
            "Epoch 50/100\n",
            "125/125 [==============================] - ETA: 0s - loss: 0.0184 - accuracy: 0.9942\n",
            "Epoch 50: val_accuracy did not improve from 0.90373\n",
            "125/125 [==============================] - 301s 2s/step - loss: 0.0184 - accuracy: 0.9942 - val_loss: 0.5735 - val_accuracy: 0.8790\n",
            "Epoch 51/100\n",
            "125/125 [==============================] - ETA: 0s - loss: 0.0198 - accuracy: 0.9940\n",
            "Epoch 51: val_accuracy did not improve from 0.90373\n",
            "125/125 [==============================] - 313s 3s/step - loss: 0.0198 - accuracy: 0.9940 - val_loss: 0.5412 - val_accuracy: 0.8921\n",
            "Epoch 52/100\n",
            "125/125 [==============================] - ETA: 0s - loss: 0.0382 - accuracy: 0.9901\n",
            "Epoch 52: val_accuracy did not improve from 0.90373\n",
            "125/125 [==============================] - 313s 3s/step - loss: 0.0382 - accuracy: 0.9901 - val_loss: 0.4840 - val_accuracy: 0.8982\n",
            "Epoch 53/100\n",
            "125/125 [==============================] - ETA: 0s - loss: 0.0360 - accuracy: 0.9892\n",
            "Epoch 53: val_accuracy did not improve from 0.90373\n",
            "125/125 [==============================] - 318s 3s/step - loss: 0.0360 - accuracy: 0.9892 - val_loss: 0.4819 - val_accuracy: 0.8992\n",
            "Epoch 54/100\n",
            "125/125 [==============================] - ETA: 0s - loss: 0.0230 - accuracy: 0.9930\n",
            "Epoch 54: val_accuracy did not improve from 0.90373\n",
            "125/125 [==============================] - 319s 3s/step - loss: 0.0230 - accuracy: 0.9930 - val_loss: 0.4859 - val_accuracy: 0.8977\n",
            "Epoch 55/100\n",
            "125/125 [==============================] - ETA: 0s - loss: 0.0187 - accuracy: 0.9946\n",
            "Epoch 55: val_accuracy did not improve from 0.90373\n",
            "125/125 [==============================] - 316s 3s/step - loss: 0.0187 - accuracy: 0.9946 - val_loss: 0.4540 - val_accuracy: 0.8967\n",
            "Epoch 56/100\n",
            "125/125 [==============================] - ETA: 0s - loss: 0.0182 - accuracy: 0.9947\n",
            "Epoch 56: val_accuracy did not improve from 0.90373\n",
            "125/125 [==============================] - 319s 3s/step - loss: 0.0182 - accuracy: 0.9947 - val_loss: 0.4976 - val_accuracy: 0.8921\n",
            "Epoch 57/100\n",
            "125/125 [==============================] - ETA: 0s - loss: 0.0175 - accuracy: 0.9945\n",
            "Epoch 57: val_accuracy did not improve from 0.90373\n",
            "125/125 [==============================] - 324s 3s/step - loss: 0.0175 - accuracy: 0.9945 - val_loss: 0.5130 - val_accuracy: 0.8962\n",
            "Epoch 58/100\n",
            "125/125 [==============================] - ETA: 0s - loss: 0.0159 - accuracy: 0.9959\n",
            "Epoch 58: val_accuracy did not improve from 0.90373\n",
            "125/125 [==============================] - 326s 3s/step - loss: 0.0159 - accuracy: 0.9959 - val_loss: 0.4707 - val_accuracy: 0.8997\n",
            "Epoch 59/100\n",
            "125/125 [==============================] - ETA: 0s - loss: 0.0226 - accuracy: 0.9920\n",
            "Epoch 59: val_accuracy did not improve from 0.90373\n",
            "125/125 [==============================] - 327s 3s/step - loss: 0.0226 - accuracy: 0.9920 - val_loss: 0.4702 - val_accuracy: 0.8952\n",
            "Epoch 60/100\n",
            "125/125 [==============================] - ETA: 0s - loss: 0.0088 - accuracy: 0.9965\n",
            "Epoch 60: val_accuracy did not improve from 0.90373\n",
            "125/125 [==============================] - 326s 3s/step - loss: 0.0088 - accuracy: 0.9965 - val_loss: 0.4770 - val_accuracy: 0.9002\n",
            "Epoch 61/100\n",
            "125/125 [==============================] - ETA: 0s - loss: 0.0143 - accuracy: 0.9959\n",
            "Epoch 61: val_accuracy did not improve from 0.90373\n",
            "125/125 [==============================] - 330s 3s/step - loss: 0.0143 - accuracy: 0.9959 - val_loss: 0.4905 - val_accuracy: 0.9022\n",
            "Epoch 62/100\n",
            "125/125 [==============================] - ETA: 0s - loss: 0.0124 - accuracy: 0.9961\n",
            "Epoch 62: val_accuracy did not improve from 0.90373\n",
            "125/125 [==============================] - 326s 3s/step - loss: 0.0124 - accuracy: 0.9961 - val_loss: 0.4692 - val_accuracy: 0.9027\n",
            "Epoch 63/100\n",
            "125/125 [==============================] - ETA: 0s - loss: 0.0122 - accuracy: 0.9960\n",
            "Epoch 63: val_accuracy improved from 0.90373 to 0.90423, saving model to weights-improvementdesnet121-63-0.90.hdf5\n",
            "125/125 [==============================] - 329s 3s/step - loss: 0.0122 - accuracy: 0.9960 - val_loss: 0.4917 - val_accuracy: 0.9042\n",
            "Epoch 64/100\n",
            "125/125 [==============================] - ETA: 0s - loss: 0.0090 - accuracy: 0.9966\n",
            "Epoch 64: val_accuracy did not improve from 0.90423\n",
            "125/125 [==============================] - 329s 3s/step - loss: 0.0090 - accuracy: 0.9966 - val_loss: 0.4907 - val_accuracy: 0.9042\n",
            "Epoch 65/100\n",
            "125/125 [==============================] - ETA: 0s - loss: 0.0064 - accuracy: 0.9976\n",
            "Epoch 65: val_accuracy did not improve from 0.90423\n",
            "125/125 [==============================] - 326s 3s/step - loss: 0.0064 - accuracy: 0.9976 - val_loss: 0.5209 - val_accuracy: 0.9042\n",
            "Epoch 66/100\n",
            "125/125 [==============================] - ETA: 0s - loss: 0.0060 - accuracy: 0.9982\n",
            "Epoch 66: val_accuracy improved from 0.90423 to 0.90474, saving model to weights-improvementdesnet121-66-0.90.hdf5\n",
            "125/125 [==============================] - 327s 3s/step - loss: 0.0060 - accuracy: 0.9982 - val_loss: 0.4899 - val_accuracy: 0.9047\n",
            "Epoch 67/100\n",
            "125/125 [==============================] - ETA: 0s - loss: 0.0055 - accuracy: 0.9980\n",
            "Epoch 67: val_accuracy did not improve from 0.90474\n",
            "125/125 [==============================] - 333s 3s/step - loss: 0.0055 - accuracy: 0.9980 - val_loss: 0.5580 - val_accuracy: 0.8952\n",
            "Epoch 68/100\n",
            "125/125 [==============================] - ETA: 0s - loss: 0.0226 - accuracy: 0.9927\n",
            "Epoch 68: val_accuracy did not improve from 0.90474\n",
            "125/125 [==============================] - 520s 4s/step - loss: 0.0226 - accuracy: 0.9927 - val_loss: 0.5729 - val_accuracy: 0.8901\n",
            "Epoch 69/100\n",
            "125/125 [==============================] - ETA: 0s - loss: 0.0127 - accuracy: 0.9960\n",
            "Epoch 69: val_accuracy did not improve from 0.90474\n",
            "125/125 [==============================] - 503s 4s/step - loss: 0.0127 - accuracy: 0.9960 - val_loss: 0.5502 - val_accuracy: 0.8977\n",
            "Epoch 70/100\n",
            "125/125 [==============================] - ETA: 0s - loss: 0.0231 - accuracy: 0.9938\n",
            "Epoch 70: val_accuracy did not improve from 0.90474\n",
            "125/125 [==============================] - 498s 4s/step - loss: 0.0231 - accuracy: 0.9938 - val_loss: 0.5022 - val_accuracy: 0.9037\n",
            "Epoch 71/100\n",
            "125/125 [==============================] - ETA: 0s - loss: 0.0147 - accuracy: 0.9951\n",
            "Epoch 71: val_accuracy did not improve from 0.90474\n",
            "125/125 [==============================] - 317s 3s/step - loss: 0.0147 - accuracy: 0.9951 - val_loss: 0.5963 - val_accuracy: 0.8957\n",
            "Epoch 72/100\n",
            "125/125 [==============================] - ETA: 0s - loss: 0.0154 - accuracy: 0.9955\n",
            "Epoch 72: val_accuracy did not improve from 0.90474\n",
            "125/125 [==============================] - 333s 3s/step - loss: 0.0154 - accuracy: 0.9955 - val_loss: 0.6213 - val_accuracy: 0.8790\n",
            "Epoch 73/100\n",
            "125/125 [==============================] - ETA: 0s - loss: 0.0195 - accuracy: 0.9938\n",
            "Epoch 73: val_accuracy did not improve from 0.90474\n",
            "125/125 [==============================] - 336s 3s/step - loss: 0.0195 - accuracy: 0.9938 - val_loss: 0.5753 - val_accuracy: 0.8846\n",
            "Epoch 74/100\n",
            "125/125 [==============================] - ETA: 0s - loss: 0.0184 - accuracy: 0.9943\n",
            "Epoch 74: val_accuracy did not improve from 0.90474\n",
            "125/125 [==============================] - 336s 3s/step - loss: 0.0184 - accuracy: 0.9943 - val_loss: 0.5512 - val_accuracy: 0.8906\n",
            "Epoch 75/100\n",
            "125/125 [==============================] - ETA: 0s - loss: 0.0115 - accuracy: 0.9965\n",
            "Epoch 75: val_accuracy improved from 0.90474 to 0.90575, saving model to weights-improvementdesnet121-75-0.91.hdf5\n",
            "125/125 [==============================] - 344s 3s/step - loss: 0.0115 - accuracy: 0.9965 - val_loss: 0.4897 - val_accuracy: 0.9057\n",
            "Epoch 76/100\n",
            "125/125 [==============================] - ETA: 0s - loss: 0.0087 - accuracy: 0.9971\n",
            "Epoch 76: val_accuracy did not improve from 0.90575\n",
            "125/125 [==============================] - 343s 3s/step - loss: 0.0087 - accuracy: 0.9971 - val_loss: 0.5045 - val_accuracy: 0.9002\n",
            "Epoch 77/100\n",
            "125/125 [==============================] - ETA: 0s - loss: 0.0146 - accuracy: 0.9962\n",
            "Epoch 77: val_accuracy did not improve from 0.90575\n",
            "125/125 [==============================] - 344s 3s/step - loss: 0.0146 - accuracy: 0.9962 - val_loss: 0.5410 - val_accuracy: 0.8957\n",
            "Epoch 78/100\n",
            "125/125 [==============================] - ETA: 0s - loss: 0.0171 - accuracy: 0.9950\n",
            "Epoch 78: val_accuracy did not improve from 0.90575\n",
            "125/125 [==============================] - 346s 3s/step - loss: 0.0171 - accuracy: 0.9950 - val_loss: 0.6035 - val_accuracy: 0.8952\n",
            "Epoch 79/100\n",
            "125/125 [==============================] - ETA: 0s - loss: 0.0159 - accuracy: 0.9957\n",
            "Epoch 79: val_accuracy did not improve from 0.90575\n",
            "125/125 [==============================] - 345s 3s/step - loss: 0.0159 - accuracy: 0.9957 - val_loss: 0.5024 - val_accuracy: 0.9002\n",
            "Epoch 80/100\n",
            "125/125 [==============================] - ETA: 0s - loss: 0.0102 - accuracy: 0.9969\n",
            "Epoch 80: val_accuracy did not improve from 0.90575\n",
            "125/125 [==============================] - 345s 3s/step - loss: 0.0102 - accuracy: 0.9969 - val_loss: 0.5910 - val_accuracy: 0.8816\n",
            "Epoch 81/100\n",
            "125/125 [==============================] - ETA: 0s - loss: 0.0276 - accuracy: 0.9917\n",
            "Epoch 81: val_accuracy did not improve from 0.90575\n",
            "125/125 [==============================] - 340s 3s/step - loss: 0.0276 - accuracy: 0.9917 - val_loss: 0.6432 - val_accuracy: 0.8871\n",
            "Epoch 82/100\n",
            "125/125 [==============================] - ETA: 0s - loss: 0.0165 - accuracy: 0.9956\n",
            "Epoch 82: val_accuracy did not improve from 0.90575\n",
            "125/125 [==============================] - 340s 3s/step - loss: 0.0165 - accuracy: 0.9956 - val_loss: 0.6085 - val_accuracy: 0.8921\n",
            "Epoch 83/100\n",
            "125/125 [==============================] - ETA: 0s - loss: 0.0150 - accuracy: 0.9942\n",
            "Epoch 83: val_accuracy did not improve from 0.90575\n",
            "125/125 [==============================] - 338s 3s/step - loss: 0.0150 - accuracy: 0.9942 - val_loss: 0.5343 - val_accuracy: 0.8982\n",
            "Epoch 84/100\n",
            "125/125 [==============================] - ETA: 0s - loss: 0.0128 - accuracy: 0.9959\n",
            "Epoch 84: val_accuracy did not improve from 0.90575\n",
            "125/125 [==============================] - 336s 3s/step - loss: 0.0128 - accuracy: 0.9959 - val_loss: 0.5229 - val_accuracy: 0.8972\n",
            "Epoch 85/100\n",
            "125/125 [==============================] - ETA: 0s - loss: 0.0122 - accuracy: 0.9957\n",
            "Epoch 85: val_accuracy improved from 0.90575 to 0.90726, saving model to weights-improvementdesnet121-85-0.91.hdf5\n",
            "125/125 [==============================] - 343s 3s/step - loss: 0.0122 - accuracy: 0.9957 - val_loss: 0.4567 - val_accuracy: 0.9073\n",
            "Epoch 86/100\n",
            "125/125 [==============================] - ETA: 0s - loss: 0.0080 - accuracy: 0.9966\n",
            "Epoch 86: val_accuracy did not improve from 0.90726\n",
            "125/125 [==============================] - 344s 3s/step - loss: 0.0080 - accuracy: 0.9966 - val_loss: 0.4922 - val_accuracy: 0.9037\n",
            "Epoch 87/100\n",
            "125/125 [==============================] - ETA: 0s - loss: 0.0142 - accuracy: 0.9956\n",
            "Epoch 87: val_accuracy did not improve from 0.90726\n",
            "125/125 [==============================] - 343s 3s/step - loss: 0.0142 - accuracy: 0.9956 - val_loss: 0.5867 - val_accuracy: 0.8881\n",
            "Epoch 88/100\n",
            "125/125 [==============================] - ETA: 0s - loss: 0.0128 - accuracy: 0.9966\n",
            "Epoch 88: val_accuracy did not improve from 0.90726\n",
            "125/125 [==============================] - 349s 3s/step - loss: 0.0128 - accuracy: 0.9966 - val_loss: 0.4838 - val_accuracy: 0.8987\n",
            "Epoch 89/100\n",
            "125/125 [==============================] - ETA: 0s - loss: 0.0140 - accuracy: 0.9955\n",
            "Epoch 89: val_accuracy did not improve from 0.90726\n",
            "125/125 [==============================] - 345s 3s/step - loss: 0.0140 - accuracy: 0.9955 - val_loss: 0.5306 - val_accuracy: 0.8931\n",
            "Epoch 90/100\n",
            "125/125 [==============================] - ETA: 0s - loss: 0.0106 - accuracy: 0.9966\n",
            "Epoch 90: val_accuracy did not improve from 0.90726\n",
            "125/125 [==============================] - 343s 3s/step - loss: 0.0106 - accuracy: 0.9966 - val_loss: 0.5336 - val_accuracy: 0.8977\n",
            "Epoch 91/100\n",
            "125/125 [==============================] - ETA: 0s - loss: 0.0127 - accuracy: 0.9947\n",
            "Epoch 91: val_accuracy did not improve from 0.90726\n",
            "125/125 [==============================] - 339s 3s/step - loss: 0.0127 - accuracy: 0.9947 - val_loss: 0.5447 - val_accuracy: 0.8982\n",
            "Epoch 92/100\n",
            "125/125 [==============================] - ETA: 0s - loss: 0.0099 - accuracy: 0.9966\n",
            "Epoch 92: val_accuracy did not improve from 0.90726\n",
            "125/125 [==============================] - 343s 3s/step - loss: 0.0099 - accuracy: 0.9966 - val_loss: 0.5243 - val_accuracy: 0.8982\n",
            "Epoch 93/100\n",
            "125/125 [==============================] - ETA: 0s - loss: 0.0135 - accuracy: 0.9953\n",
            "Epoch 93: val_accuracy did not improve from 0.90726\n",
            "125/125 [==============================] - 342s 3s/step - loss: 0.0135 - accuracy: 0.9953 - val_loss: 0.5394 - val_accuracy: 0.8992\n",
            "Epoch 94/100\n",
            "125/125 [==============================] - ETA: 0s - loss: 0.0144 - accuracy: 0.9950\n",
            "Epoch 94: val_accuracy did not improve from 0.90726\n",
            "125/125 [==============================] - 339s 3s/step - loss: 0.0144 - accuracy: 0.9950 - val_loss: 0.5303 - val_accuracy: 0.8992\n",
            "Epoch 95/100\n",
            "125/125 [==============================] - ETA: 0s - loss: 0.0085 - accuracy: 0.9966\n",
            "Epoch 95: val_accuracy did not improve from 0.90726\n",
            "125/125 [==============================] - 340s 3s/step - loss: 0.0085 - accuracy: 0.9966 - val_loss: 0.6198 - val_accuracy: 0.8821\n",
            "Epoch 96/100\n",
            "125/125 [==============================] - ETA: 0s - loss: 0.0297 - accuracy: 0.9930\n",
            "Epoch 96: val_accuracy did not improve from 0.90726\n",
            "125/125 [==============================] - 337s 3s/step - loss: 0.0297 - accuracy: 0.9930 - val_loss: 0.6564 - val_accuracy: 0.8715\n",
            "Epoch 97/100\n",
            "125/125 [==============================] - ETA: 0s - loss: 0.0227 - accuracy: 0.9932\n",
            "Epoch 97: val_accuracy did not improve from 0.90726\n",
            "125/125 [==============================] - 338s 3s/step - loss: 0.0227 - accuracy: 0.9932 - val_loss: 0.5327 - val_accuracy: 0.9027\n",
            "Epoch 98/100\n",
            "125/125 [==============================] - ETA: 0s - loss: 0.0155 - accuracy: 0.9951\n",
            "Epoch 98: val_accuracy did not improve from 0.90726\n",
            "125/125 [==============================] - 346s 3s/step - loss: 0.0155 - accuracy: 0.9951 - val_loss: 0.5189 - val_accuracy: 0.8952\n",
            "Epoch 99/100\n",
            "125/125 [==============================] - ETA: 0s - loss: 0.0182 - accuracy: 0.9940\n",
            "Epoch 99: val_accuracy did not improve from 0.90726\n",
            "125/125 [==============================] - 345s 3s/step - loss: 0.0182 - accuracy: 0.9940 - val_loss: 0.5253 - val_accuracy: 0.9002\n",
            "Epoch 100/100\n",
            "125/125 [==============================] - ETA: 0s - loss: 0.0164 - accuracy: 0.9950\n",
            "Epoch 100: val_accuracy did not improve from 0.90726\n",
            "125/125 [==============================] - 348s 3s/step - loss: 0.0164 - accuracy: 0.9950 - val_loss: 0.5819 - val_accuracy: 0.8831\n"
          ]
        }
      ],
      "source": [
        "history = model.fit(x = train_generator,validation_data=validation_generator,epochs = 100,callbacks=callbacks_list)\n",
        "#history = model.fit(x = train_generator,validation_split=0.2,epochs = EPOCHS)"
      ]
    },
    {
      "attachments": {},
      "cell_type": "markdown",
      "metadata": {
        "id": "bgv9VzUEHAnj"
      },
      "source": [
        "<a id=\"auc\"></a>\n",
        "# <center> Multiclass AUC Curve </center>"
      ]
    },
    {
      "cell_type": "code",
      "execution_count": 25,
      "metadata": {
        "colab": {
          "base_uri": "https://localhost:8080/",
          "height": 671
        },
        "id": "6OhG5S1hHAnk",
        "outputId": "3638be21-0d20-4339-8986-5400ccb35e13"
      },
      "outputs": [
        {
          "name": "stdout",
          "output_type": "stream",
          "text": [
            "22/22 [==============================] - 13s 453ms/step\n",
            "ROC AUC score: 0.9881454842801664\n"
          ]
        },
        {
          "data": {
            "image/png": "[encoded data removed]",
            "text/plain": [
              "<Figure size 1500x800 with 1 Axes>"
            ]
          },
          "metadata": {},
          "output_type": "display_data"
        }
      ],
      "source": [
        "preds = model.predict(test_generator)\n",
        "y_test = test_generator.classes\n",
        "fig, c_ax = plt.subplots(1,1, figsize = (15,8))\n",
        "\n",
        "def multiclass_roc_auc_score(y_test,preds, average=\"macro\"):\n",
        "    lb = LabelBinarizer()\n",
        "    lb.fit(y_test)\n",
        "    y_test = lb.transform(y_test)\n",
        "    for (idx, c_label) in enumerate(CLASS_LABELS):\n",
        "        fpr, tpr, thresholds = roc_curve(y_test[:,idx].astype(int),preds[:,idx])\n",
        "        c_ax.plot(fpr, tpr,lw=2, label = '%s (AUC:%0.2f)'  % (c_label, auc(fpr, tpr)))\n",
        "    c_ax.plot(fpr, fpr, 'black',linestyle='dashed', lw=4, label = 'Random Guessing')\n",
        "    return roc_auc_score(y_test, preds, average=average)\n",
        "\n",
        "print('ROC AUC score:', multiclass_roc_auc_score(y_test , preds  , average = \"micro\"))\n",
        "plt.xlabel('FALSE POSITIVE RATE', fontsize=18)\n",
        "plt.ylabel('TRUE POSITIVE RATE', fontsize=16)\n",
        "plt.legend(fontsize = 11.5)\n",
        "plt.show()"
      ]
    },
    {
      "cell_type": "code",
      "execution_count": 27,
      "metadata": {
        "id": "Qh3YKPXVHAnk"
      },
      "outputs": [],
      "source": [
        "def plot_metric(model_fit, metric_name_1, metric_name_2, plot_name):\n",
        "    '''\n",
        "    This function will plot the metrics passed to it in a graph.\n",
        "    Args:\n",
        "        model_training_history: A history object containing a record of training and validation\n",
        "                                loss values and metrics values at successive epochs\n",
        "        metric_name_1:          The name of the first metric that needs to be plotted in the graph.\n",
        "        metric_name_2:          The name of the second metric that needs to be plotted in the graph.\n",
        "        plot_name:              The title of the graph.\n",
        "    '''\n",
        "\n",
        "    # Get metric values using metric names as identifiers.\n",
        "    metric_value_1 = model_fit.history[metric_name_1]\n",
        "    metric_value_2 = model_fit.history[metric_name_2]\n",
        "\n",
        "    # Construct a range object which will be used as x-axis (horizontal plane) of the graph.\n",
        "    epochs = range(len(metric_value_1))\n",
        "\n",
        "    # Plot the Graph.\n",
        "    plt.plot(epochs, metric_value_1, 'blue', label = metric_name_1)\n",
        "    plt.plot(epochs, metric_value_2, 'red', label = metric_name_2)\n",
        "\n",
        "    # Add title to the plot.\n",
        "    plt.title(str(plot_name))\n",
        "\n",
        "    # Add legend to the plot.\n",
        "    plt.legend()"
      ]
    },
    {
      "cell_type": "code",
      "execution_count": 28,
      "metadata": {
        "colab": {
          "base_uri": "https://localhost:8080/",
          "height": 452
        },
        "id": "eIoD4959HAnk",
        "outputId": "6ee870a7-e4c1-4ea4-8f52-48a541416400"
      },
      "outputs": [
        {
          "data": {
            "image/png": "[encoded data removed]",
            "text/plain": [
              "<Figure size 640x480 with 1 Axes>"
            ]
          },
          "metadata": {},
          "output_type": "display_data"
        }
      ],
      "source": [
        "plot_metric(history, 'loss', 'val_loss', 'Total Loss vs Total Validation Loss')"
      ]
    },
    {
      "cell_type": "code",
      "execution_count": 29,
      "metadata": {
        "id": "mmpf2K3ve0_1",
        "outputId": "c6813691-f498-4caa-fce9-ab1bc8ede179"
      },
      "outputs": [
        {
          "data": {
            "image/png": "[encoded data removed]",
            "text/plain": [
              "<Figure size 640x480 with 1 Axes>"
            ]
          },
          "metadata": {},
          "output_type": "display_data"
        }
      ],
      "source": [
        "plot_metric(history, 'accuracy', 'val_accuracy', 'Total Accuracy vs validation Accuracy')"
      ]
    },
    {
      "cell_type": "code",
      "execution_count": 30,
      "metadata": {
        "id": "8mRg_cOle0_3"
      },
      "outputs": [],
      "source": [
        "from sklearn.metrics import confusion_matrix, classification_report\n",
        "from sklearn.metrics import accuracy_score\n",
        "from sklearn.metrics import precision_score\n",
        "from sklearn.metrics import recall_score\n",
        "from sklearn.metrics import f1_score\n",
        "from sklearn.metrics import cohen_kappa_score\n",
        "from sklearn.metrics import roc_auc_score\n",
        "from sklearn.metrics import confusion_matrix"
      ]
    },
    {
      "cell_type": "code",
      "execution_count": 31,
      "metadata": {
        "id": "9p3QFnfoHAnl"
      },
      "outputs": [],
      "source": [
        "from sklearn.metrics import confusion_matrix, classification_report\n"
      ]
    },
    {
      "cell_type": "code",
      "execution_count": 32,
      "metadata": {
        "id": "AVgOZQzwip_i"
      },
      "outputs": [],
      "source": [
        "y_true = np.argmax(preds, axis=1)\n"
      ]
    },
    {
      "cell_type": "code",
      "execution_count": 33,
      "metadata": {
        "colab": {
          "base_uri": "https://localhost:8080/"
        },
        "id": "1jho_ytHiwCI",
        "outputId": "e21d9198-38e0-4103-9c07-09be96ed341b"
      },
      "outputs": [
        {
          "name": "stdout",
          "output_type": "stream",
          "text": [
            "Label Mappings for classes present in the training and validation datasets\n",
            "\n",
            "0 : altar\n",
            "1 : apse\n",
            "2 : bell_tower\n",
            "3 : column\n",
            "4 : dome(inner)\n",
            "5 : dome(outer)\n",
            "6 : flying_buttress\n",
            "7 : gargoyle\n",
            "8 : stained_glass\n",
            "9 : vault\n"
          ]
        }
      ],
      "source": [
        "labels = {value: key for key, value in train_generator.class_indices.items()}\n",
        "\n",
        "print(\"Label Mappings for classes present in the training and validation datasets\\n\")\n",
        "for key, value in labels.items():\n",
        "    print(f\"{key} : {value}\")"
      ]
    },
    {
      "cell_type": "code",
      "execution_count": 36,
      "metadata": {
        "id": "NiyzNJVte0_5",
        "outputId": "fb25a441-a436-4dd3-a1cc-99283b9c2f04"
      },
      "outputs": [
        {
          "name": "stdout",
          "output_type": "stream",
          "text": [
            "Accuracy: 0.857558\n",
            "Precision: 0.869083\n",
            "Recall: 0.840506\n",
            "F1 score: 0.848991\n"
          ]
        },
        {
          "ename": "TypeError",
          "evalue": "only size-1 arrays can be converted to Python scalars",
          "output_type": "error",
          "traceback": [
            "\u001b[1;31m---------------------------------------------------------------------------\u001b[0m",
            "\u001b[1;31mTypeError\u001b[0m                                 Traceback (most recent call last)",
            "Cell \u001b[1;32mIn[36], line 13\u001b[0m\n\u001b[0;32m     11\u001b[0m \u001b[39mprint\u001b[39m(\u001b[39m'\u001b[39m\u001b[39mF1 score: \u001b[39m\u001b[39m%f\u001b[39;00m\u001b[39m'\u001b[39m \u001b[39m%\u001b[39m f1)\n\u001b[0;32m     12\u001b[0m cf_mtx \u001b[39m=\u001b[39m confusion_matrix(y_true,y_test)\n\u001b[1;32m---> 13\u001b[0m \u001b[39mprint\u001b[39m(\u001b[39m'\u001b[39;49m\u001b[39mConfusion matrix: \u001b[39;49m\u001b[39m%f\u001b[39;49;00m\u001b[39m'\u001b[39;49m \u001b[39m%\u001b[39;49m cf_mtx)\n",
            "\u001b[1;31mTypeError\u001b[0m: only size-1 arrays can be converted to Python scalars"
          ]
        }
      ],
      "source": [
        "accuracy = accuracy_score(y_true, y_test)\n",
        "print('Accuracy: %f' % accuracy)\n",
        "# precision tp / (tp + fp)\n",
        "precision = precision_score(y_true, y_test,average=\"macro\")\n",
        "print('Precision: %f' % precision)\n",
        "# recall: tp / (tp + fn)\n",
        "recall = recall_score(y_true, y_test,average=\"macro\")\n",
        "print('Recall: %f' % recall)\n",
        "# f1: 2 tp / (2 tp + fp + fn)\n",
        "f1 = f1_score(y_true, y_test,average=\"macro\")\n",
        "print('F1 score: %f' % f1)\n",
        "cf_mtx = confusion_matrix(y_true,y_test)\n",
        "print('Confusion matrix: %f' % cf_mtx)\n"
      ]
    },
    {
      "cell_type": "code",
      "execution_count": 38,
      "metadata": {
        "colab": {
          "base_uri": "https://localhost:8080/",
          "height": 850
        },
        "id": "DWpXTYAFi1KJ",
        "outputId": "717b06e0-33fb-4bbd-a7fa-bab7b113306c"
      },
      "outputs": [
        {
          "data": {
            "image/png": "[encoded data removed]",
            "text/plain": [
              "<Figure size 1200x1000 with 2 Axes>"
            ]
          },
          "metadata": {},
          "output_type": "display_data"
        }
      ],
      "source": [
        "cf_mtx = confusion_matrix(y_true,y_test)\n",
        "\n",
        "group_counts = [\"{0:0.0f}\".format(value) for value in cf_mtx.flatten()]\n",
        "group_percentages = [\"{0:.2%}\".format(value) for value in cf_mtx.flatten()/np.sum(cf_mtx)]\n",
        "box_labels = [f\"{v1}\\n({v2})\" for v1, v2 in zip(group_counts, group_percentages)]\n",
        "box_labels = np.asarray(box_labels).reshape(10, 10)\n",
        "\n",
        "plt.figure(figsize = (12, 10))\n",
        "sns.heatmap(cf_mtx, xticklabels=labels.values(), yticklabels=labels.values(),\n",
        "           cmap=\"YlGnBu\", fmt=\"\", annot=box_labels)\n",
        "plt.xlabel('Predicted Classes')\n",
        "plt.ylabel('True Classes')\n",
        "plt.show()"
      ]
    }
  ],
  "metadata": {
    "colab": {
      "provenance": []
    },
    "kernelspec": {
      "display_name": "Python 3 (ipykernel)",
      "language": "python",
      "name": "python3"
    },
    "language_info": {
      "codemirror_mode": {
        "name": "ipython",
        "version": 3
      },
      "file_extension": ".py",
      "mimetype": "text/x-python",
      "name": "python",
      "nbconvert_exporter": "python",
      "pygments_lexer": "ipython3",
      "version": "3.11.2"
    }
  },
  "nbformat": 4,
  "nbformat_minor": 0
}
